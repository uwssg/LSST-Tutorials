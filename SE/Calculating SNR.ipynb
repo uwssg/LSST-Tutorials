{
 "metadata": {
  "name": "",
  "signature": "sha256:09e88e48663397a7231c760defa6a9f7dca7507c3d9fec94d53b10a1a46b0f14"
 },
 "nbformat": 3,
 "nbformat_minor": 0,
 "worksheets": [
  {
   "cells": [
    {
     "cell_type": "markdown",
     "metadata": {},
     "source": [
      "This ipython notebook demonstrates how to calculate photometric (optimal psf-weighted) SNR for sources observed with LSST. \n",
      "It uses the LSST [throughputs](https://github.com/lsst/throughputs) curves, together with the LSST [sims_photUtils](https://stash.lsstcorp.org/projects/SIM/repos/sims_photutils/browse) package, to calculate the SNR for any spectrum. \n",
      "\n",
      "With an eye toward turning this into a more generalized SNR calculator, an overview of the process (starting from the spectrum) is:\n",
      "* Set the desired magnitude (in a standardized throughput curve) for the source.\n",
      "* Generate the throughput curves in all filters, for the airmass desired.\n",
      "* Find the sky SED (for now we just use dark, zenith sky).\n",
      "* Calculate the SNR. \n",
      "\n",
      "---\n",
      "\n",
      "This notebook assumes that the `throughputs` and `sims_photUtils` packages have been installed and setup. We can then import the necessary packages:"
     ]
    },
    {
     "cell_type": "code",
     "collapsed": false,
     "input": [
      "import os\n",
      "%matplotlib inline\n",
      "import matplotlib.pyplot as plt\n",
      "from lsst.sims.photUtils import Bandpass\n",
      "from lsst.sims.photUtils import Sed"
     ],
     "language": "python",
     "metadata": {},
     "outputs": []
    },
    {
     "cell_type": "markdown",
     "metadata": {},
     "source": [
      "---\n",
      "<b>Read in the spectra.</b> \n",
      "\n",
      "I put together a few SEDs that cover a fairly wide range: elliptical and spiral galaxies, blue and red stars, and a quasar. We'll read them all into `Sed` objects, and set the quasar to have a redshift of 3.5. These SEDS are available as a [tar ball](http://www.astro.washington.edu/users/lynnej/sample_seds.tar.gz). \n",
      "Wherever you place this directory, set an environment variable 'SAMPLE_SEDS_DIR' pointing to that location (i.e. `setenv SAMPLE_SEDS_DIR /Users/lynnej/seds/sample_seds`)."
     ]
    },
    {
     "cell_type": "code",
     "collapsed": false,
     "input": [
      "sedDir = os.getenv('SAMPLE_SEDS_DIR')\n",
      "filenames = !ls $sedDir\n",
      "print filenames"
     ],
     "language": "python",
     "metadata": {},
     "outputs": []
    },
    {
     "cell_type": "code",
     "collapsed": false,
     "input": [
      "seds = {}\n",
      "z=3.5\n",
      "for s in filenames:\n",
      "    seds[s] = Sed()\n",
      "    seds[s].readSED_flambda(os.path.join(sedDir, s))\n",
      "if 'quasar.dat' in seds:\n",
      "    seds['quasar.dat'].redshiftSED(z)"
     ],
     "language": "python",
     "metadata": {},
     "outputs": []
    },
    {
     "cell_type": "markdown",
     "metadata": {},
     "source": [
      "---\n",
      "<b>Read the standard throughput curves</b>.\n",
      "\n",
      "First, get the names of the directories containing the baseline throughput curves and a set of standard atmosphere curves at a range of airmass (also from the throughputs package). Maybe take a peek at the contents of these directories. "
     ]
    },
    {
     "cell_type": "code",
     "collapsed": false,
     "input": [
      "throughputsDir = os.getenv('LSST_THROUGHPUTS_BASELINE')\n",
      "atmosDir = os.path.join(os.getenv('THROUGHPUTS_DIR'), 'atmos')\n",
      "#!ls -l $throughputsDir\n",
      "#!ls -l $atmosDir\n",
      "filterlist = ('u', 'g', 'r', 'i', 'z', 'y')\n",
      "filtercolors = {'u':'b', 'g':'c', 'r':'g', 'i':'y', 'z':'r', 'y':'m'}"
     ],
     "language": "python",
     "metadata": {},
     "outputs": []
    },
    {
     "cell_type": "markdown",
     "metadata": {},
     "source": [
      "Read in the set of throughput curves we'll use as our \"standard\"."
     ]
    },
    {
     "cell_type": "code",
     "collapsed": false,
     "input": [
      "lsst_std = {}\n",
      "for f in filterlist:\n",
      "    lsst_std[f] = Bandpass()\n",
      "    lsst_std[f].readThroughput(os.path.join(throughputsDir, 'total_'+f+'.dat'))"
     ],
     "language": "python",
     "metadata": {},
     "outputs": []
    },
    {
     "cell_type": "markdown",
     "metadata": {},
     "source": [
      "---\n",
      "<b>Set the desired magnitude.</b>\n",
      "\n",
      "Use these standard throughput curves to set the desired magnitude for each SED in the desired reference bandpass. This is the step where the user decides the magnitude of the source they want to use to calculate SNR."
     ]
    },
    {
     "cell_type": "code",
     "collapsed": false,
     "input": [
      "stdFilter = 'r'\n",
      "stdMag = 24.0\n",
      "for s in seds:\n",
      "    fluxNorm = seds[s].calcFluxNorm(stdMag, lsst_std[stdFilter])\n",
      "    seds[s].multiplyFluxNorm(fluxNorm)"
     ],
     "language": "python",
     "metadata": {},
     "outputs": []
    },
    {
     "cell_type": "markdown",
     "metadata": {},
     "source": [
      "Pretty plot #1: plot the SEDs."
     ]
    },
    {
     "cell_type": "code",
     "collapsed": false,
     "input": [
      "for s in seds:\n",
      "    plt.plot(seds[s].wavelen, seds[s].flambda*seds[s].wavelen, label='%s' %(s))\n",
      "plt.xlabel('Wavelength (nm)')\n",
      "plt.ylabel('$\\lambda F_\\lambda$')\n",
      "plt.xlim(300, 1100)\n",
      "plt.legend(loc=(0.98, 0.2), fontsize='smaller', numpoints=1, fancybox=True)"
     ],
     "language": "python",
     "metadata": {},
     "outputs": []
    },
    {
     "cell_type": "markdown",
     "metadata": {},
     "source": [
      "---\n",
      "<b>Read in the (non-standard) throughput components</b>\n",
      "\n",
      "Read in the various components that we will need, in order to generate the non-standard throughput curves at arbitrary airmass. \n",
      "First, the system hardware throughput components, as we will need the hardware alone to calculate SNR anyway. (see [note (1)](#hardware_sky) below for more information). "
     ]
    },
    {
     "cell_type": "code",
     "collapsed": false,
     "input": [
      "lsst_system = {}\n",
      "for f in filterlist:\n",
      "    lsst_system[f] = Bandpass()\n",
      "    lsst_system[f].readThroughputList(['detector.dat', 'lens1.dat', 'lens2.dat', 'lens3.dat', \n",
      "                                       'm1.dat', 'm2.dat', 'm3.dat', 'filter_'+f+'.dat'], \n",
      "                                        rootDir=throughputsDir)"
     ],
     "language": "python",
     "metadata": {},
     "outputs": []
    },
    {
     "cell_type": "markdown",
     "metadata": {},
     "source": [
      "Then read in the atmosphere, so we can multiply it into the system hardware throughputs. This lets us generate the total throughput curves, using a wider variety of atmosphere curves at varying airmass. (The standard total throughput curves use X=1.2, for now we'll use X=1.0 here)."
     ]
    },
    {
     "cell_type": "code",
     "collapsed": false,
     "input": [
      "atmosphere = Bandpass()\n",
      "X = 1.0\n",
      "atmosphere.readThroughput(os.path.join(atmosDir, 'atmos_%d.dat' %(X*10)))"
     ],
     "language": "python",
     "metadata": {},
     "outputs": []
    },
    {
     "cell_type": "markdown",
     "metadata": {},
     "source": [
      "Calculate the total (non-standard) throughput curves, including the atmosphere. "
     ]
    },
    {
     "cell_type": "code",
     "collapsed": false,
     "input": [
      "lsst_total = {}\n",
      "for f in filterlist:\n",
      "    wavelen, sb = lsst_system[f].multiplyThroughputs(atmosphere.wavelen, atmosphere.sb)\n",
      "    lsst_total[f] = Bandpass(wavelen=wavelen, sb=sb)"
     ],
     "language": "python",
     "metadata": {},
     "outputs": []
    },
    {
     "cell_type": "markdown",
     "metadata": {},
     "source": [
      "Pretty plot #2, plot the throughput curves + atmosphere. "
     ]
    },
    {
     "cell_type": "code",
     "collapsed": false,
     "input": [
      "for f in filterlist:\n",
      "    plt.plot(lsst_total[f].wavelen, lsst_total[f].sb,  linestyle='-', color=filtercolors[f], label='%s' %(f))\n",
      "    plt.plot(lsst_system[f].wavelen, lsst_system[f].sb, linestyle=':', color=filtercolors[f])\n",
      "plt.plot(atmosphere.wavelen, atmosphere.sb, 'k:', label='X =%.1f atmos' %(X))\n",
      "plt.legend(loc=(0.85, 0.5), fontsize='smaller', fancybox=True, numpoints=1)\n",
      "plt.xlabel('Wavelength (nm)')\n",
      "plt.ylabel('Sb (0-1)')\n",
      "plt.title('System throughput')"
     ],
     "language": "python",
     "metadata": {},
     "outputs": []
    },
    {
     "cell_type": "markdown",
     "metadata": {},
     "source": [
      "---\n",
      "<b>Calculate SNR</b>"
     ]
    },
    {
     "cell_type": "markdown",
     "metadata": {},
     "source": [
      "The SNR of a source depends on the sky background, as well as properties of the telescope and camera. We can use the default values for LSST telescope and camera properties automatically. At the moment, the only sky spectrum we have easily available is the dark sky zenith spectrum, from the [$LSST_THROUGHPUTS_BASELINE/darksky.dat](https://github.com/lsst/throughputs/blob/master/baseline/darksky.dat) file. This spectra is calibrated to have the appropriate magnitudes in the LSST bandpasses under dark sky, zenith conditions."
     ]
    },
    {
     "cell_type": "code",
     "collapsed": false,
     "input": [
      "darksky = Sed()\n",
      "darksky.readSED_flambda(os.path.join(throughputsDir, 'darksky.dat'))"
     ],
     "language": "python",
     "metadata": {},
     "outputs": []
    },
    {
     "cell_type": "markdown",
     "metadata": {},
     "source": [
      "Calculate the SNR, assuming optimal measurement over the PSF. This means we can choose the PSF as well.<br>\n",
      "`Sed` method `calcSNR_psf` accepts an instantiation of the `PhotometricParameters` class, which carries values for readnoise, platescale, gain, number of exposures, etc, set to defaults appropriate for most LSST purposes (and assuming 30 second visits, consisting of two 15 second exposures). "
     ]
    },
    {
     "cell_type": "code",
     "collapsed": false,
     "input": [
      "from lsst.sims.photUtils import PhotometricParameters\n",
      "photParams = PhotometricParameters()\n",
      "seeing = 0.7\n",
      "snr = {}\n",
      "for s in seds:\n",
      "    snr[s] = {}\n",
      "    for f in filterlist:\n",
      "        snr[s][f] = seds[s].calcSNR_psf(lsst_total[f], darksky, lsst_system[f], photParams, seeing=seeing, verbose=False)"
     ],
     "language": "python",
     "metadata": {},
     "outputs": []
    },
    {
     "cell_type": "markdown",
     "metadata": {},
     "source": [
      "Some kind of ugly code to make sort of pretty printout of the SNR results."
     ]
    },
    {
     "cell_type": "code",
     "collapsed": false,
     "input": [
      "def _printSNR(snr):\n",
      "    writestring = 'SED'\n",
      "    for i in range(4):\n",
      "        writestring += '\\t'\n",
      "    for f in filterlist:\n",
      "        writestring += '   %s   ' %f\n",
      "    print writestring\n",
      "    for s in seds:\n",
      "        writestring = '%s\\t' %(s)\n",
      "        if len(writestring) < 20:\n",
      "            writestring += '\\t'\n",
      "            if len(writestring) < 20:\n",
      "                writestring += '\\t'\n",
      "        for f in filterlist:\n",
      "            writestring += ' %.2f ' %(snr[s][f])\n",
      "        print writestring"
     ],
     "language": "python",
     "metadata": {},
     "outputs": []
    },
    {
     "cell_type": "code",
     "collapsed": false,
     "input": [
      "_printSNR(snr)"
     ],
     "language": "python",
     "metadata": {},
     "outputs": []
    },
    {
     "cell_type": "markdown",
     "metadata": {},
     "source": [
      "Note that the SNR in the r band is very similar for all of these objects. This makes sense, as we normalized them all to have similar r band standard magnitudes, and the X=1.0 atmosphere is not hugely different from the X=1.2 standard throughput curves.  However, their SNR in other bandpasses can be quite different depending on the SED of the source. "
     ]
    },
    {
     "cell_type": "markdown",
     "metadata": {},
     "source": [
      "---\n",
      "And it's a bit of a hack, but we could make the same calculation for different sky background values, by scaling the dark sky SED to have different expected magnitudes (i.e. adjust the darksky SED to create different sky brightness). With the upcoming sky brightness code Peter is working on, we could just substitute that in here instead.\n",
      "\n",
      "<a name='hardware_sky'>(1)</a> Notice that I use lsst_system throughputs here, not lsst_total. This is because the sky magnitudes must be calculated using the *system* only, not including the atmosphere. The sky brightness is generated at various points throughout the atmosphere, so should not be propagated through the entire atmosphere when calculating the transmission to the focal plane (unlike sources above the atmosphere). Without doing proper radiative transfer to determine the atmosphere and sky brightness to use, the next best thing is to just use the system minus the atmosphere, and atmosphere-corrected/telescope pupil skybrightness measurements (which are what are usually reported). This is also why we needed to pass the system only throughput curves to calcSNR_psf. "
     ]
    },
    {
     "cell_type": "code",
     "collapsed": false,
     "input": [
      "for f in filterlist:\n",
      "    print f, darksky.calcMag(lsst_system[f])"
     ],
     "language": "python",
     "metadata": {},
     "outputs": []
    },
    {
     "cell_type": "code",
     "collapsed": false,
     "input": [
      "newSkyMag = 20.5\n",
      "newSkyFilter = 'r'\n",
      "fluxNorm = darksky.calcFluxNorm(newSkyMag, lsst_system[newSkyFilter])\n",
      "darksky.multiplyFluxNorm(fluxNorm)\n",
      "for f in filterlist:\n",
      "    print f, darksky.calcMag(lsst_system[f])"
     ],
     "language": "python",
     "metadata": {},
     "outputs": []
    },
    {
     "cell_type": "code",
     "collapsed": false,
     "input": [
      "seeing = 0.7\n",
      "snr = {}\n",
      "for s in seds:\n",
      "    snr[s] = {}\n",
      "    for f in filterlist:\n",
      "        snr[s][f] = seds[s].calcSNR_psf(lsst_total[f], darksky, lsst_system[f], photParams, seeing=seeing)\n",
      "_printSNR(snr)"
     ],
     "language": "python",
     "metadata": {},
     "outputs": []
    },
    {
     "cell_type": "code",
     "collapsed": false,
     "input": [
      "# Vary the seeing (with this new sky background)\n",
      "seeing = 1.2\n",
      "snr = {}\n",
      "for s in seds:\n",
      "    snr[s] = {}\n",
      "    for f in filterlist:\n",
      "        snr[s][f] = seds[s].calcSNR_psf(lsst_total[f], darksky, lsst_system[f], photParams, seeing=seeing)\n",
      "_printSNR(snr)"
     ],
     "language": "python",
     "metadata": {},
     "outputs": []
    },
    {
     "cell_type": "markdown",
     "metadata": {},
     "source": [
      "---\n",
      "So let's recap .. "
     ]
    },
    {
     "cell_type": "code",
     "collapsed": false,
     "input": [
      "import os\n",
      "%matplotlib inline\n",
      "import matplotlib.pyplot as plt\n",
      "from lsst.sims.photUtils import Bandpass\n",
      "from lsst.sims.photUtils import Sed\n",
      "\n",
      "# Read the SEDS.\n",
      "sedDir = os.getenv('SAMPLE_SEDS_DIR')\n",
      "filenames = !ls $sedDir\n",
      "seds = {}\n",
      "z=3.5\n",
      "for s in filenames:\n",
      "    seds[s] = Sed()\n",
      "    seds[s].readSED_flambda(os.path.join(sedDir, s))\n",
      "if 'quasar.dat' in seds:\n",
      "    seds['quasar.dat'].redshiftSED(z)\n",
      "\n",
      "# Read the standard throughputs.\n",
      "throughputsDir = os.getenv('LSST_THROUGHPUTS_BASELINE')\n",
      "filterlist = ('u', 'g', 'r', 'i', 'z', 'y')\n",
      "lsst_std = {}\n",
      "for f in filterlist:\n",
      "    lsst_std[f] = Bandpass()\n",
      "    lsst_std[f].readThroughput(os.path.join(throughputsDir, 'total_'+f+'.dat'))\n",
      "\n",
      "# Read the base for the non-standard throughputs.\n",
      "atmosDir = os.path.join(os.getenv('THROUGHPUTS_DIR'), 'atmos')\n",
      "lsst_system = {}\n",
      "for f in filterlist:\n",
      "    lsst_system[f] = Bandpass()\n",
      "    lsst_system[f].readThroughputList(['detector.dat', 'lens1.dat', 'lens2.dat', 'lens3.dat', \n",
      "                                       'm1.dat', 'm2.dat', 'm3.dat', 'filter_'+f+'.dat'], \n",
      "                                        rootDir=throughputsDir)\n",
      "atmosphere = Bandpass()\n",
      "\n",
      "# Read the dark sky SED.\n",
      "darksky = Sed()\n",
      "darksky.readSED_flambda(os.path.join(throughputsDir, 'darksky.dat'))"
     ],
     "language": "python",
     "metadata": {},
     "outputs": []
    },
    {
     "cell_type": "code",
     "collapsed": false,
     "input": [
      "# Set your source magnitude in some standard filter.\n",
      "stdFilter = 'i'\n",
      "stdMag = 23.5\n",
      "for s in seds:\n",
      "    fluxNorm = seds[s].calcFluxNorm(stdMag, lsst_std[stdFilter])\n",
      "    seds[s].multiplyFluxNorm(fluxNorm)\n",
      "# Set your desired airmass and build the non-standard complete throughputs.\n",
      "X = 1.0\n",
      "atmosphere.readThroughput(os.path.join(atmosDir, 'atmos_%d.dat' %(X*10)))\n",
      "lsst_total = {}\n",
      "for f in filterlist:\n",
      "    wavelen, sb = lsst_system[f].multiplyThroughputs(atmosphere.wavelen, atmosphere.sb)\n",
      "    lsst_total[f] = Bandpass(wavelen=wavelen, sb=sb)\n",
      "# Set the sky magnitude in some filter.\n",
      "newSkyMag = 20.5\n",
      "newSkyFilter = 'r'\n",
      "fluxNorm = darksky.calcFluxNorm(newSkyMag, lsst_system[newSkyFilter])\n",
      "newsky = Sed(wavelen=darksky.wavelen, flambda=darksky.flambda)\n",
      "newsky.multiplyFluxNorm(fluxNorm)\n",
      "# Set the PSF. \n",
      "seeing = 1.2\n",
      "snr = {}\n",
      "for s in seds:\n",
      "    snr[s] = {}\n",
      "    for f in filterlist:\n",
      "        snr[s][f] = seds[s].calcSNR_psf(lsst_total[f], newsky, lsst_system[f], photParams, seeing=seeing)\n",
      "_printSNR(snr)"
     ],
     "language": "python",
     "metadata": {},
     "outputs": []
    },
    {
     "cell_type": "code",
     "collapsed": false,
     "input": [],
     "language": "python",
     "metadata": {},
     "outputs": []
    }
   ],
   "metadata": {}
  }
 ]
}