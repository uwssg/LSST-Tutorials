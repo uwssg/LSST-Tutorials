{
 "cells": [
  {
   "cell_type": "markdown",
   "metadata": {},
   "source": [
    "This notebook demonstrates some the coordinate manipulation methods available through the Simulations stack.  It will not show all of the available routines.  To investigate for yourself the methods that are available, see\n",
    "    \n",
    "    $SIMS_UTILS_DIR/python/lsst/sims/utils/AstrometryUtils.py\n",
    "    \n",
    "    $SIMS_COORDUTILS_DIR/python/lsst/sims/coordUtils/CameraUtils.py\n",
    "\n",
    "    $SIMS_UTILS_DIR/python/lsst/sims/utils/coordinateTransformations.py\n",
    "\n",
    "There is, unfortunately, still a little bit of redundancy between the methods offered in these two files.  Hopefully, that will get cleaned up in the near future.  All of the code uses PALPY as its backend, so it should not matter which methods you use to do a given calculation.  PALPY source code is available at\n",
    "\n",
    "https://github.com/Starlink/palpy\n",
    "\n",
    "You should begin by loading the stack and setting up `sims_coordUtils` using\n",
    "\n",
    "    setup sims_coordUtils -t sims"
   ]
  },
  {
   "cell_type": "markdown",
   "metadata": {},
   "source": [
    "We will start with the highest level routines: taking (RA, Dec) pairs and determining which chip they land on.  To do this, we must load a simulated camera.  The code below will load the current map of the LSST camera."
   ]
  },
  {
   "cell_type": "code",
   "execution_count": null,
   "metadata": {
    "collapsed": false
   },
   "outputs": [],
   "source": [
    "from lsst.obs.lsstSim import LsstSimMapper\n",
    "camera = LsstSimMapper().camera"
   ]
  },
  {
   "cell_type": "markdown",
   "metadata": {},
   "source": [
    "The routines that connect (RA, Dec) on the sky with positions on the camera require information about how the telescope is pointed.  As with nearly all CatSim applications, this data is stored in the `ObservationMetaData` class.  Below, we will use the `ObservationMetaDataGenerator` introduced in the notebooks `generateAgnCatalog_150409.ipynb` and `CatSimTutorial_SimulationsAHM_1503.ipynb` to create a self-consistent `ObservationMetaData` instantation from an example OpSim run."
   ]
  },
  {
   "cell_type": "code",
   "execution_count": null,
   "metadata": {
    "collapsed": false
   },
   "outputs": [],
   "source": [
    "import os\n",
    "import eups\n",
    "from lsst.sims.catUtils.utils import ObservationMetaDataGenerator\n",
    "\n",
    "#the code below just points to an OpSim output database that\n",
    "#is carried around with the Simulations stack for testing purposes\n",
    "opSimDbName = 'opsimblitz1_1133_sqlite.db'\n",
    "fullName = os.path.join(eups.productDir('sims_data'),'OpSimData',opSimDbName)\n",
    "\n",
    "obsMD_generator = ObservationMetaDataGenerator(database=fullName, driver='sqlite')"
   ]
  },
  {
   "cell_type": "markdown",
   "metadata": {},
   "source": [
    "Create an `ObservationMetaData` instantiation based on a pointing with 24 < RA < 100 (in degrees)"
   ]
  },
  {
   "cell_type": "code",
   "execution_count": null,
   "metadata": {
    "collapsed": false
   },
   "outputs": [],
   "source": [
    "boundLength=3.0 #the radius of our field of view in degrees\n",
    "obs_metadata = obsMD_generator.getObservationMetaData(fieldRA=(24.0,100.0),\n",
    "                                                      limit=1, boundLength=boundLength)\n",
    "print obs_metadata[0].pointingRA, obs_metadata[0].rotSkyPos"
   ]
  },
  {
   "cell_type": "markdown",
   "metadata": {},
   "source": [
    "Now we will generate a sample of 10 (RA, Dec) pairs that are within our field of view."
   ]
  },
  {
   "cell_type": "code",
   "execution_count": null,
   "metadata": {
    "collapsed": false
   },
   "outputs": [],
   "source": [
    "import numpy\n",
    "epoch = 2000.0\n",
    "nsamples = 10\n",
    "numpy.random.seed(42)\n",
    "radius = boundLength*numpy.random.sample(nsamples)\n",
    "theta = 2.0*numpy.pi*numpy.random.sample(nsamples)\n",
    "\n",
    "raRaw = obs_metadata[0].pointingRA + radius*numpy.cos(theta)\n",
    "decRaw = obs_metadata[0].pointingDec + radius*numpy.sin(theta)"
   ]
  },
  {
   "cell_type": "markdown",
   "metadata": {},
   "source": [
    "To find what chip they fall on (given an `ObservationMetaData`), we the method `chipNameFromRaDec`."
   ]
  },
  {
   "cell_type": "code",
   "execution_count": null,
   "metadata": {
    "collapsed": false
   },
   "outputs": [],
   "source": [
    "from lsst.sims.coordUtils import chipNameFromRaDec\n",
    "\n",
    "chipNames = chipNameFromRaDec(ra=raRaw, dec=decRaw,\n",
    "                              camera=camera, epoch=epoch,\n",
    "                              obs_metadata=obs_metadata[0])\n",
    "\n",
    "print chipNames\n"
   ]
  },
  {
   "cell_type": "markdown",
   "metadata": {},
   "source": [
    "<b> Note: currently, chipNameFromRaDec only returns the names of science chips (as opposed to wavefront sensors or guide chips) on which the object falls.  It also does not know how to handle objects that fall on two chips at once.</b>"
   ]
  },
  {
   "cell_type": "markdown",
   "metadata": {},
   "source": [
    "There is also a method to find the pixel coordinates on the chip of each object."
   ]
  },
  {
   "cell_type": "code",
   "execution_count": null,
   "metadata": {
    "collapsed": false
   },
   "outputs": [],
   "source": [
    "from lsst.sims.coordUtils import pixelCoordsFromRaDec\n",
    "\n",
    "pixelCoords = pixelCoordsFromRaDec(ra=raRaw, dec=decRaw,\n",
    "                                   camera=camera, epoch=epoch,\n",
    "                                   obs_metadata=obs_metadata[0])\n",
    "\n",
    "for name, x, y in zip(chipNames, pixelCoords[0], pixelCoords[1]):\n",
    "    print name, x, y"
   ]
  },
  {
   "cell_type": "markdown",
   "metadata": {},
   "source": [
    "And methods to calculate the pupil coordinates of an object in radians."
   ]
  },
  {
   "cell_type": "code",
   "execution_count": null,
   "metadata": {
    "collapsed": false,
    "scrolled": true
   },
   "outputs": [],
   "source": [
    "from lsst.sims.utils import pupilCoordsFromRaDec\n",
    "\n",
    "help(pupilCoordsFromRaDec)"
   ]
  },
  {
   "cell_type": "code",
   "execution_count": null,
   "metadata": {
    "collapsed": false
   },
   "outputs": [],
   "source": [
    "xPup, yPup = pupilCoordsFromRaDec(raRaw, decRaw,\n",
    "                                  obs_metadata=obs_metadata[0], epoch=epoch)\n",
    "\n",
    "for x,y in zip(xPup, yPup):\n",
    "    print x, y"
   ]
  },
  {
   "cell_type": "markdown",
   "metadata": {},
   "source": [
    "There are also methods to transform from the International Celestial Reference System to 'observed' RA/Dec\n",
    "\n",
    "* `observedFromICRS` applied precession, nutation, proper motion, parallax, radial velocity, annual aberration, diurnal aberration, and refraction.  It relies on the methods below.\n",
    "\n",
    "* `appGeoFromICRS` calculates the apparent geocentric position of the object.  It applies precession, nutation, proper motion, parallax, radial velocity, and annual aberration\n",
    "\n",
    "\n",
    "* `observedFromAppGeo` converts the apparent geocentric position to the observed position, adding diurnal aberration and refraction to the list of applied effects.  You will generally only want to call `observedFromAppGeo` on coordinates that have already been corrected with `appGeoFromICRS`.  This is what `observedFromICRS` does."
   ]
  },
  {
   "cell_type": "code",
   "execution_count": null,
   "metadata": {
    "collapsed": false
   },
   "outputs": [],
   "source": [
    "from lsst.sims.utils import observedFromICRS\n",
    "\n",
    "help(observedFromICRS)"
   ]
  },
  {
   "cell_type": "code",
   "execution_count": null,
   "metadata": {
    "collapsed": false
   },
   "outputs": [],
   "source": [
    "from lsst.sims.utils import appGeoFromICRS\n",
    "\n",
    "help(appGeoFromICRS)"
   ]
  },
  {
   "cell_type": "code",
   "execution_count": null,
   "metadata": {
    "collapsed": false
   },
   "outputs": [],
   "source": [
    "from lsst.sims.utils import observedFromAppGeo\n",
    "\n",
    "help(observedFromAppGeo)"
   ]
  },
  {
   "cell_type": "markdown",
   "metadata": {},
   "source": [
    "In `generateAgnCatalog_150409.ipynb` and `CatSimTutorial_SimulationsAHM_1503.ipynb` we introduced the idea of mixins and getter methods that allow you to seamlessly incorporate calculated quantities into simulated catalogs.  `Astrometry.py` defines getter methods that allow you to incorporate the above calculations into catalogs.\n",
    "\n",
    "* Getters to correct the (RA, Dec) coordinates of stars are provided by the mixin `AstrometryStars`.\n",
    "\n",
    "\n",
    "* Getters to correct the (Ra, Dec) coordinates of galaxies are provided by the mixin `AstrometryGalaxies` (this is different from `AstrometryStars` in that `AstrometryGalaxies` knows not to bother looking for proper motion, parallax, or radial velocity)\n",
    "\n",
    "\n",
    "* Getters associated with camera-based quantities are provided by the mixin `CameraCoords`.\n",
    "\n",
    "Note: `AstrometryStars`, `AstrometryGalaxies`, and `CameraCoords` all inherit from the mixin `AstrometryBase` which provides getters for quantities and methods that are agnostic to the star/galaxy distinction"
   ]
  },
  {
   "cell_type": "code",
   "execution_count": null,
   "metadata": {
    "collapsed": false
   },
   "outputs": [],
   "source": [
    "from lsst.sims.catUtils.mixins import AstrometryBase\n",
    "for methodName in dir(AstrometryBase):\n",
    "    if 'get_' in methodName:\n",
    "        print methodName"
   ]
  },
  {
   "cell_type": "code",
   "execution_count": null,
   "metadata": {
    "collapsed": false
   },
   "outputs": [],
   "source": [
    "from lsst.sims.catUtils.mixins import AstrometryStars\n",
    "for methodName in dir(AstrometryStars):\n",
    "    if 'get_' in methodName and methodName not in dir(AstrometryBase):\n",
    "        print methodName"
   ]
  },
  {
   "cell_type": "code",
   "execution_count": null,
   "metadata": {
    "collapsed": false
   },
   "outputs": [],
   "source": [
    "from lsst.sims.catUtils.mixins import AstrometryGalaxies\n",
    "for methodName in dir(AstrometryGalaxies):\n",
    "    if 'get_' in methodName and methodName not in dir(AstrometryBase):\n",
    "        print methodName"
   ]
  },
  {
   "cell_type": "code",
   "execution_count": null,
   "metadata": {
    "collapsed": false
   },
   "outputs": [],
   "source": [
    "from lsst.sims.catUtils.mixins import CameraCoords\n",
    "for methodName in dir(CameraCoords):\n",
    "    if 'get_' in methodName and methodName not in dir(AstrometryBase):\n",
    "        print methodName"
   ]
  },
  {
   "cell_type": "markdown",
   "metadata": {},
   "source": [
    "Here we illustrate how to use these mixins to include coordinate transformations into simulated catalogs."
   ]
  },
  {
   "cell_type": "code",
   "execution_count": null,
   "metadata": {
    "collapsed": false
   },
   "outputs": [],
   "source": [
    "from lsst.sims.catalogs.measures.instance import InstanceCatalog\n",
    "from lsst.sims.catUtils.mixins import AstrometryStars\n",
    "\n",
    "class chipNameCatalog(InstanceCatalog, AstrometryStars, CameraCoords):\n",
    "    column_outputs = ['raJ2000', 'decJ2000', 'raObserved', 'decObserved', \n",
    "                      'chipName', 'xPix', 'yPix']\n",
    "\n",
    "    transformations = {'raJ2000':numpy.degrees, 'decJ2000':numpy.degrees,\n",
    "                       'raObserved':numpy.degrees, 'decObserved':numpy.degrees}\n",
    "    \n",
    "    camera = LsstSimMapper().camera\n"
   ]
  },
  {
   "cell_type": "code",
   "execution_count": null,
   "metadata": {
    "collapsed": false
   },
   "outputs": [],
   "source": [
    "from lsst.sims.catUtils.baseCatalogModels import WdStarObj\n",
    "\n",
    "#define a smaller ObservationMetaData so that we don't create an over large catalog\n",
    "obs_metadata = obsMD_generator.getObservationMetaData(fieldRA=(24.0, 100.0),\n",
    "                                                      limit=1, boundLength=0.5)\n",
    "\n",
    "#again, use the white dwarf database table so that we don't get too many objects\n",
    "#in this small example\n",
    "starDB = WdStarObj()\n",
    "\n",
    "testCat = chipNameCatalog(starDB, obs_metadata=obs_metadata[0])\n",
    "\n",
    "catName = 'test_cat.txt'\n",
    "\n",
    "if os.path.exists(catName):\n",
    "    os.unlink(catName)\n",
    "    \n",
    "testCat.write_catalog(catName)\n",
    "\n",
    "!cat test_cat.txt"
   ]
  }
 ],
 "metadata": {
  "kernelspec": {
   "display_name": "Python 2",
   "language": "python",
   "name": "python2"
  },
  "language_info": {
   "codemirror_mode": {
    "name": "ipython",
    "version": 2
   },
   "file_extension": ".py",
   "mimetype": "text/x-python",
   "name": "python",
   "nbconvert_exporter": "python",
   "pygments_lexer": "ipython2",
   "version": "2.7.11"
  }
 },
 "nbformat": 4,
 "nbformat_minor": 0
}
