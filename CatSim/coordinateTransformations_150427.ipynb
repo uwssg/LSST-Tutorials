{
 "metadata": {
  "name": "",
  "signature": "sha256:cf167f630118a5c1a55447bc088d31dc5752fd9bf01f79a868a8d8b98e20d80c"
 },
 "nbformat": 3,
 "nbformat_minor": 0,
 "worksheets": [
  {
   "cells": [
    {
     "cell_type": "code",
     "collapsed": false,
     "input": [
      "from lsst.obs.lsstSim import LsstSimMapper\n",
      "camera = LsstSimMapper().camera"
     ],
     "language": "python",
     "metadata": {},
     "outputs": []
    },
    {
     "cell_type": "code",
     "collapsed": false,
     "input": [
      "import os\n",
      "import eups\n",
      "from lsst.sims.catUtils.utils import ObservationMetaDataGenerator\n",
      "\n",
      "opSimDbName = 'opsimblitz1_1133_sqlite.db'\n",
      "fullName = os.path.join(eups.productDir('sims_data'),'OpSimData',opSimDbName)\n",
      "\n",
      "obsMD_generator = ObservationMetaDataGenerator(address='sqlite:///'+fullName)"
     ],
     "language": "python",
     "metadata": {},
     "outputs": []
    },
    {
     "cell_type": "code",
     "collapsed": false,
     "input": [
      "boundLength=3.0 #in degrees\n",
      "obs_metadata = obsMD_generator.getObservationMetaData(fieldRA=(24.0,100.0), limit=1, boundLength=boundLength)\n",
      "print obs_metadata[0].unrefractedRA, obs_metadata[0].rotSkyPos"
     ],
     "language": "python",
     "metadata": {},
     "outputs": []
    },
    {
     "cell_type": "code",
     "collapsed": false,
     "input": [
      "import numpy\n",
      "nsamples=100\n",
      "numpy.random.seed(42)\n",
      "radius = numpy.radians(boundLength)*numpy.random.sample(nsamples)\n",
      "theta = 2.0*numpy.pi*numpy.random.sample(nsamples)\n",
      "\n",
      "raRaw = obs_metadata[0].unrefractedRA + radius*numpy.cos(theta)\n",
      "decRaw = obs_metadata[0].unrefractedDec + radius*numpy.sin(theta)"
     ],
     "language": "python",
     "metadata": {},
     "outputs": []
    },
    {
     "cell_type": "code",
     "collapsed": false,
     "input": [
      "from lsst.sims.coordUtils import AstrometryBase\n",
      "\n",
      "epoch = 2000.0\n",
      "\n",
      "raCorrected, decCorrected = AstrometryBase().correctCoordinates(raRaw, decRaw, obs_metadata=obs_metadata[0], epoch=epoch)"
     ],
     "language": "python",
     "metadata": {},
     "outputs": []
    },
    {
     "cell_type": "code",
     "collapsed": false,
     "input": [
      "from lsst.sims.coordUtils import CameraCoords\n",
      "\n",
      "chipNames = CameraCoords().findChipName(ra=raCorrected, dec=decCorrected,\n",
      "                                        camera=camera, epoch=epoch,\n",
      "                                        obs_metadata=obs_metadata[0])\n",
      "\n",
      "print chipNames\n"
     ],
     "language": "python",
     "metadata": {},
     "outputs": []
    },
    {
     "cell_type": "code",
     "collapsed": false,
     "input": [],
     "language": "python",
     "metadata": {},
     "outputs": []
    }
   ],
   "metadata": {}
  }
 ]
}