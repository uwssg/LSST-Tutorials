{
 "metadata": {
  "name": "",
  "signature": "sha256:3cd60c6144a235eacac9c46a63612c051e02e637bad14ed11194fa3d0f2157a2"
 },
 "nbformat": 3,
 "nbformat_minor": 0,
 "worksheets": [
  {
   "cells": [
    {
     "cell_type": "markdown",
     "metadata": {},
     "source": [
      "This notebook demonstrates some the coordinate manipulation methods available through the Simulations stack.  It will not show all of the available routines.  To investigate for yourself the methods that are available, see\n",
      "\n",
      "    $SIMS_COORDUTILS_DIR/python/lsst/sims/coordUtils/Astrometry.py\n",
      "$SIMS_UTILS_DIR/python/lsst/sims/utils/coordinateTransformations.py\n",
      "\n",
      "There is, unfortunately, still a little bit of redundancy between the methods offered in these two files.  Hopefully, that will get cleaned up in the near future.  All of the code uses PALPY as its backend, so it should not matter which methods you use to do a given calculation.  PALPY source code is available at\n",
      "\n",
      "https://github.com/Starlink/palpy\n",
      "\n",
      "You should begin by loading the stack and setting up `sims_coordUtils` using\n",
      "\n",
      "    setup sims_coordUtils -t sims"
     ]
    },
    {
     "cell_type": "markdown",
     "metadata": {},
     "source": [
      "We will start with the highest level routines: taking (RA, Dec) pairs and determining which chip they land on.  To do this, we must load a simulated camera.  The code below will load the current map of the LSST camera."
     ]
    },
    {
     "cell_type": "code",
     "collapsed": false,
     "input": [
      "from lsst.obs.lsstSim import LsstSimMapper\n",
      "camera = LsstSimMapper().camera"
     ],
     "language": "python",
     "metadata": {},
     "outputs": []
    },
    {
     "cell_type": "markdown",
     "metadata": {},
     "source": [
      "The routines that connect (RA, Dec) on the sky with positions on the camera require information about how the telescope is pointed.  As with nearly all CatSim applications, this data is stored in the `ObservationMetaData` class.  Below, we will use the `ObservationMetaDataGenerator` introduced in the notebooks `generateAgnCatalog_150409.ipynb` and `CatSimTutorial_SimulationsAHM_1503.ipynb` to create a self-consistent `ObservationMetaData` instantation from an example OpSim run."
     ]
    },
    {
     "cell_type": "code",
     "collapsed": false,
     "input": [
      "import os\n",
      "import eups\n",
      "from lsst.sims.catUtils.utils import ObservationMetaDataGenerator\n",
      "\n",
      "#the code below just points to an OpSim output database that\n",
      "#is carried around with the Simulations stack for testing purposes\n",
      "opSimDbName = 'opsimblitz1_1133_sqlite.db'\n",
      "fullName = os.path.join(eups.productDir('sims_data'),'OpSimData',opSimDbName)\n",
      "\n",
      "obsMD_generator = ObservationMetaDataGenerator(address='sqlite:///'+fullName)"
     ],
     "language": "python",
     "metadata": {},
     "outputs": []
    },
    {
     "cell_type": "markdown",
     "metadata": {},
     "source": [
      "Create an `ObservationMetaData` instantiation based on a pointing with 24 < RA < 100 (in degrees)"
     ]
    },
    {
     "cell_type": "code",
     "collapsed": false,
     "input": [
      "boundLength=3.0 #the radius of our field of view in degrees\n",
      "obs_metadata = obsMD_generator.getObservationMetaData(fieldRA=(24.0,100.0),\n",
      "                                                      limit=1, boundLength=boundLength)\n",
      "print obs_metadata[0].unrefractedRA, obs_metadata[0].rotSkyPos"
     ],
     "language": "python",
     "metadata": {},
     "outputs": []
    },
    {
     "cell_type": "markdown",
     "metadata": {},
     "source": [
      "Now we will generate a sample of 10 (RA, Dec) pairs that are within our field of view."
     ]
    },
    {
     "cell_type": "code",
     "collapsed": false,
     "input": [
      "import numpy\n",
      "nsamples=10\n",
      "numpy.random.seed(42)\n",
      "radius = numpy.radians(boundLength)*numpy.random.sample(nsamples)\n",
      "theta = 2.0*numpy.pi*numpy.random.sample(nsamples)\n",
      "\n",
      "raRaw = obs_metadata[0].unrefractedRA + radius*numpy.cos(theta)\n",
      "decRaw = obs_metadata[0].unrefractedDec + radius*numpy.sin(theta)"
     ],
     "language": "python",
     "metadata": {},
     "outputs": []
    },
    {
     "cell_type": "markdown",
     "metadata": {},
     "source": [
      "The (RA, Dec) pairs generated are (for the sake of argument) unrefracted, above the atmosphere coordinates.  In order to use them in the chip-finding routines, we must first apply corrections for precession, nutation, aberration, and refraction.  We do this using the method `correctCoordinates`  provided by the class `AstrometryBase`."
     ]
    },
    {
     "cell_type": "code",
     "collapsed": false,
     "input": [
      "from lsst.sims.coordUtils import AstrometryBase\n",
      "\n",
      "epoch = 2000.0\n",
      "\n",
      "raCorrected, decCorrected = AstrometryBase().correctCoordinates(raRaw, decRaw, obs_metadata=obs_metadata[0], epoch=epoch)"
     ],
     "language": "python",
     "metadata": {},
     "outputs": []
    },
    {
     "cell_type": "markdown",
     "metadata": {},
     "source": [
      "`correctCoordinates` would also allow us to apply corrections for parallax, proper motion, and radial velocity, if applicable"
     ]
    },
    {
     "cell_type": "code",
     "collapsed": false,
     "input": [
      "help(AstrometryBase().correctCoordinates)"
     ],
     "language": "python",
     "metadata": {},
     "outputs": []
    },
    {
     "cell_type": "markdown",
     "metadata": {},
     "source": [
      "Now that we have the corrected (RA, Dec) coordinates of our simulated objects, we can find what chip they fall on (given an `ObservationMetaData`) using the method `findChipName` provided by the class `CameraCoords'."
     ]
    },
    {
     "cell_type": "code",
     "collapsed": false,
     "input": [
      "from lsst.sims.coordUtils import CameraCoords\n",
      "\n",
      "chipNames = CameraCoords().findChipName(ra=raCorrected, dec=decCorrected,\n",
      "                                        camera=camera, epoch=epoch,\n",
      "                                        obs_metadata=obs_metadata[0])\n",
      "\n",
      "print chipNames\n"
     ],
     "language": "python",
     "metadata": {},
     "outputs": []
    },
    {
     "cell_type": "markdown",
     "metadata": {},
     "source": [
      "There is also a method to find the pixel coordinates on the chip of each object."
     ]
    },
    {
     "cell_type": "code",
     "collapsed": false,
     "input": [
      "pixelCoords = CameraCoords().calculatePixelCoordinates(ra=raCorrected, dec=decCorrected,\n",
      "                                                       camera=camera, epoch=epoch,\n",
      "                                                       obs_metadata=obs_metadata[0])\n",
      "\n",
      "for name, x, y in zip(chipNames, pixelCoords[0], pixelCoords[1]):\n",
      "    print name, x, y"
     ],
     "language": "python",
     "metadata": {},
     "outputs": []
    },
    {
     "cell_type": "markdown",
     "metadata": {},
     "source": [
      "And methods to calculate the pupil coordinates of an object in radians."
     ]
    },
    {
     "cell_type": "code",
     "collapsed": false,
     "input": [
      "help(AstrometryBase().calculatePupilCoordinates)"
     ],
     "language": "python",
     "metadata": {},
     "outputs": []
    },
    {
     "cell_type": "code",
     "collapsed": false,
     "input": [
      "xPup, yPup = AstrometryBase().calculatePupilCoordinates(raObj=raCorrected, decObj=decCorrected,\n",
      "                                                        obs_metadata=obs_metadata[0], epoch=epoch)\n",
      "\n",
      "for x,y in zip(xPup, yPup):\n",
      "    print x, y"
     ],
     "language": "python",
     "metadata": {},
     "outputs": []
    },
    {
     "cell_type": "markdown",
     "metadata": {},
     "source": [
      "The `correctCoordinates` method used above relies on two separate steps:\n",
      "\n",
      "* `applyMeanApparentPlace` calculates the apparent place of the object.  It corrects for precession, nutation, proper motion, parallax, radial velocity, and annual aberration\n",
      "\n",
      "\n",
      "* `applyMeanObservedPlace` converts the apparent place to the observed place, adding diurnal aberration and refraction to the list of applied corrections.  You will generally only want to call `applyMeanObservedPlace` on coordinates that have already been corrected with `applyMeanApparentPlace`.  This is what `correctCoordinates` does."
     ]
    },
    {
     "cell_type": "code",
     "collapsed": false,
     "input": [
      "help(AstrometryBase().applyMeanApparentPlace)"
     ],
     "language": "python",
     "metadata": {},
     "outputs": []
    },
    {
     "cell_type": "code",
     "collapsed": false,
     "input": [
      "help(AstrometryBase().applyMeanObservedPlace)"
     ],
     "language": "python",
     "metadata": {},
     "outputs": []
    },
    {
     "cell_type": "code",
     "collapsed": false,
     "input": [],
     "language": "python",
     "metadata": {},
     "outputs": []
    },
    {
     "cell_type": "code",
     "collapsed": false,
     "input": [
      "from lsst.sims.catalogs.measures.instance import InstanceCatalog\n",
      "from lsst.sims.coordUtils import AstrometryStars\n",
      "\n",
      "class chipNameCatalog(InstanceCatalog, AstrometryStars, CameraCoords):\n",
      "    column_outputs = ['raJ2000', 'decJ2000', 'raObserved', 'decObserved', 'chipName']\n",
      "    transformations = {'raJ2000':numpy.degrees, 'decJ2000':numpy.degrees,\n",
      "                       'raObserved':numpy.degrees, 'decObserved':numpy.degrees}\n",
      "    \n",
      "    camera = LsstSimMapper().camera\n",
      "\n",
      "from lsst.sims.catUtils.baseCatalogModels import WdStarObj\n",
      "\n",
      "obs_metadata = obsMD_generator.getObservationMetaData(fieldRA=(24.0, 100.0),\n",
      "                                                      limit=1, boundLength=0.5)\n",
      "\n",
      "starDB = WdStarObj()\n",
      "testCat = chipNameCatalog(starDB, obs_metadata=obs_metadata[0])\n",
      "\n",
      "catName = 'test_cat.txt'\n",
      "\n",
      "if os.path.exists(catName):\n",
      "    os.unlink(catName)\n",
      "    \n",
      "testCat.write_catalog(catName)\n",
      "\n",
      "!cat test_cat.txt"
     ],
     "language": "python",
     "metadata": {},
     "outputs": []
    },
    {
     "cell_type": "code",
     "collapsed": false,
     "input": [],
     "language": "python",
     "metadata": {},
     "outputs": []
    }
   ],
   "metadata": {}
  }
 ]
}