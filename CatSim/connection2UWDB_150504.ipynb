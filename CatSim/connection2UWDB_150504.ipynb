{
 "cells": [
  {
   "cell_type": "markdown",
   "metadata": {},
   "source": [
    "# Connecting to Fatboy  May 4th 2015"
   ]
  },
  {
   "cell_type": "markdown",
   "metadata": {},
   "source": [
    "Fatboy is a Windows machine sitting on the 2nd floor of the PAB. It runs Microsoft SQL Server 2008, which currently holds the primary 20TB CATSIM databases.\n",
    "\n",
    "There are currently two separate and distinct problems: \n",
    "    (1) network access (private vs. private ip, port, firewalls) and\n",
    "    (2) sql server authentication from the stack.\n",
    " \n",
    "They are both being addressed a the same time because the improved sql server authentication also makes it simpler to connect to the database through an ssh tunnel.  "
   ]
  },
  {
   "cell_type": "markdown",
   "metadata": {},
   "source": [
    "## Problem 1: Network Access"
   ]
  },
  {
   "cell_type": "markdown",
   "metadata": {},
   "source": [
    "Fatboy had been on a private IP address (172...) until a year ago. Up until that point, it was only accessible on the PAB wired network or through an ssh tunnel.  We moved it to a public IP address when collaborators without UW NETIDs wanted access. The protocol for this past year was to send us the source ip address which got added to the whitelist on a windows firewall. This was terrible for all people and machines involved.\n",
    "\n",
    "Problems:\n",
    "  * The windows firewall can't keep up with the incoming traffic. 6% of incoming connection attempts time out. \n",
    "  * Source ip addresses change. It was annoying to only be able to access from some subnets.  \n",
    "  * Some institutions block port 1433.\n",
    "  \n",
    "**We are returning to a standard authentication method: ssh. **\n",
    "See \"Demo: Off Campus\" section below. \n",
    "\n",
    "But first, let's configure our authentication utility:"
   ]
  },
  {
   "cell_type": "markdown",
   "metadata": {},
   "source": [
    "## Problem 2: SQL SERVER Authentication"
   ]
  },
  {
   "cell_type": "markdown",
   "metadata": {},
   "source": [
    "This problem is unrelated to the network access. The code in sim_catUtils included some hard coded connection strings. (Google fatboy.npl.washington.edu, and you will see our passwords in plain text). This account does not have write access, which is why our databases haven't been deleted yet. \n",
    "\n",
    "The DM stack includes a utility for hiding passwords in [daf.persistence.dbAuth](https://lsst-web.ncsa.illinois.edu/~buildbot/doxygen/x_masterDoxyDoc/classlsst_1_1daf_1_1persistence_1_1_db_auth.html)\n",
    "\n",
    "After [tickets/SIM-1092](https://jira.lsstcorp.org/browse/SIM-1092) is merged you will need to add two configuration files to your home directory.  **dbAuth** will look for these files to retrieve your username and password for your databases. \n",
    "\n",
    "\n",
    "First, Let's come up with a new password.\n"
   ]
  },
  {
   "cell_type": "markdown",
   "metadata": {},
   "source": [
    "Now, you must create **two files**  under your home directory, in a sub-directory called <code> $HOME/.lsst</code>.\n"
   ]
  },
  {
   "cell_type": "markdown",
   "metadata": {},
   "source": [
    "#### 1) <code> $HOME/.lsst/db-auth.paf </code>"
   ]
  },
  {
   "cell_type": "markdown",
   "metadata": {},
   "source": [
    "\n",
    "The first is a DB authorization file to present login credentials to whatever DB server is being used. To do this, create a <code>$HOME/.lsst/db-auth.paf</code> file with the following content: "
   ]
  },
  {
   "cell_type": "markdown",
   "metadata": {},
   "source": [
    "<code>\n",
    "database: {\n",
    "    authInfo: {\n",
    "        host: fatboy.npl.washington.edu\n",
    "        port: 1433\n",
    "        user: LSST-2\n",
    "        password: [Our secret Password]\n",
    "    }\n",
    "\n",
    "    authInfo: {    \n",
    "        host: fatboy.npl.washington.edu\n",
    "        port: 3333\n",
    "        user: LSST-2\n",
    "        password: [Our secret Password]\n",
    "    }\n",
    "    authInfo: {\n",
    "        host: localhost\n",
    "        port: 5555\n",
    "        user: LSST-2\n",
    "        password: [Our secret Password]\n",
    "    }\n",
    "}\n",
    "</code>\n",
    "    \n",
    "Authorization information for more than one DB server may be included."
   ]
  },
  {
   "cell_type": "markdown",
   "metadata": {},
   "source": [
    "#### 2)  <code> $HOME/.lsst/db-auth.py </code>"
   ]
  },
  {
   "cell_type": "markdown",
   "metadata": {},
   "source": [
    "\n",
    "The config file: <code> $HOME/.lsst/db-auth.py </code> has content that is almost identical to the above policy file: "
   ]
  },
  {
   "cell_type": "raw",
   "metadata": {},
   "source": [
    "root.database.authInfo[\"auth1\"].host = \"fatboy.npl.washington.edu\"\n",
    "root.database.authInfo[\"auth1\"].user = \"LSST-2\"\n",
    "root.database.authInfo[\"auth1\"].password = \"passwordInQuotes\"\n",
    "root.database.authInfo[\"auth1\"].port = 1433\n",
    "\n",
    "root.database.authInfo[\"auth2\"].host = \"fatboy.npl.washington.edu\"\n",
    "root.database.authInfo[\"auth2\"].user = \"LSST-2\"\n",
    "root.database.authInfo[\"auth2\"].password = \"passwordInQuotes\"\n",
    "root.database.authInfo[\"auth2\"].port = 3333\n",
    "\n",
    "root.database.authInfo[\"auth3\"].host = \"localhost\"\n",
    "root.database.authInfo[\"auth3\"].user = \"LSST-2\"\n",
    "root.database.authInfo[\"auth3\"].password = \"passwordInQuotes\"\n",
    "root.database.authInfo[\"auth3\"].port = 5555"
   ]
  },
  {
   "cell_type": "markdown",
   "metadata": {},
   "source": [
    "The directory <code>$HOME/.lsst</code> must have 700 permissions and these files must each have 600 permissions (go-rwx in all cases). \n",
    "\n",
    "<code>\n",
    "$> cd $HOME\n",
    "$> chmod 700 .lsst\n",
    "$> chmod 600 .lsst/db-auth.py \n",
    "$> chmod 600 .lsst/db-auth.paf\n",
    "</code>"
   ]
  },
  {
   "cell_type": "markdown",
   "metadata": {},
   "source": [
    "# CATSIM Demo"
   ]
  },
  {
   "cell_type": "markdown",
   "metadata": {},
   "source": [
    "### On Campus"
   ]
  },
  {
   "cell_type": "code",
   "execution_count": 9,
   "metadata": {
    "collapsed": false
   },
   "outputs": [
    {
     "name": "stdout",
     "output_type": "stream",
     "text": [
      "2015-05-04 12:21:36,175 INFO sqlalchemy.engine.base.Engine select @@version\n"
     ]
    },
    {
     "name": "stderr",
     "output_type": "stream",
     "text": [
      "INFO:sqlalchemy.engine.base.Engine:select @@version\n"
     ]
    },
    {
     "name": "stdout",
     "output_type": "stream",
     "text": [
      "2015-05-04 12:21:36,176 INFO sqlalchemy.engine.base.Engine {}\n"
     ]
    },
    {
     "name": "stderr",
     "output_type": "stream",
     "text": [
      "INFO:sqlalchemy.engine.base.Engine:{}\n"
     ]
    },
    {
     "name": "stdout",
     "output_type": "stream",
     "text": [
      "2015-05-04 12:21:36,227 INFO sqlalchemy.engine.base.Engine \n",
      "            SELECT default_schema_name FROM\n",
      "            sys.database_principals\n",
      "            WHERE principal_id=database_principal_id()\n",
      "        \n"
     ]
    },
    {
     "name": "stderr",
     "output_type": "stream",
     "text": [
      "INFO:sqlalchemy.engine.base.Engine:\n",
      "            SELECT default_schema_name FROM\n",
      "            sys.database_principals\n",
      "            WHERE principal_id=database_principal_id()\n",
      "        \n"
     ]
    },
    {
     "name": "stdout",
     "output_type": "stream",
     "text": [
      "2015-05-04 12:21:36,228 INFO sqlalchemy.engine.base.Engine {}\n"
     ]
    },
    {
     "name": "stderr",
     "output_type": "stream",
     "text": [
      "INFO:sqlalchemy.engine.base.Engine:{}\n"
     ]
    },
    {
     "name": "stdout",
     "output_type": "stream",
     "text": [
      "2015-05-04 12:21:36,335 INFO sqlalchemy.engine.base.Engine SELECT CAST('test plain returns' AS VARCHAR(60)) AS anon_1\n"
     ]
    },
    {
     "name": "stderr",
     "output_type": "stream",
     "text": [
      "INFO:sqlalchemy.engine.base.Engine:SELECT CAST('test plain returns' AS VARCHAR(60)) AS anon_1\n"
     ]
    },
    {
     "name": "stdout",
     "output_type": "stream",
     "text": [
      "2015-05-04 12:21:36,336 INFO sqlalchemy.engine.base.Engine {}\n"
     ]
    },
    {
     "name": "stderr",
     "output_type": "stream",
     "text": [
      "INFO:sqlalchemy.engine.base.Engine:{}\n"
     ]
    },
    {
     "name": "stdout",
     "output_type": "stream",
     "text": [
      "2015-05-04 12:21:36,429 INFO sqlalchemy.engine.base.Engine SELECT CAST('test unicode returns' AS NVARCHAR(60)) AS anon_1\n"
     ]
    },
    {
     "name": "stderr",
     "output_type": "stream",
     "text": [
      "INFO:sqlalchemy.engine.base.Engine:SELECT CAST('test unicode returns' AS NVARCHAR(60)) AS anon_1\n"
     ]
    },
    {
     "name": "stdout",
     "output_type": "stream",
     "text": [
      "2015-05-04 12:21:36,430 INFO sqlalchemy.engine.base.Engine {}\n"
     ]
    },
    {
     "name": "stderr",
     "output_type": "stream",
     "text": [
      "INFO:sqlalchemy.engine.base.Engine:{}\n"
     ]
    },
    {
     "name": "stdout",
     "output_type": "stream",
     "text": [
      "2015-05-04 12:21:37,291 INFO sqlalchemy.engine.base.Engine SELECT [COLUMNS_1].[TABLE_SCHEMA], [COLUMNS_1].[TABLE_NAME], [COLUMNS_1].[COLUMN_NAME], [COLUMNS_1].[IS_NULLABLE], [COLUMNS_1].[DATA_TYPE], [COLUMNS_1].[ORDINAL_POSITION], [COLUMNS_1].[CHARACTER_MAXIMUM_LENGTH], [COLUMNS_1].[NUMERIC_PRECISION], [COLUMNS_1].[NUMERIC_SCALE], [COLUMNS_1].[COLUMN_DEFAULT], [COLUMNS_1].[COLLATION_NAME] \n",
      "FROM [INFORMATION_SCHEMA].[COLUMNS] AS [COLUMNS_1] \n",
      "WHERE [COLUMNS_1].[TABLE_NAME] = CAST(%(TABLE_NAME_1)s AS NVARCHAR(max)) AND [COLUMNS_1].[TABLE_SCHEMA] = CAST(%(TABLE_SCHEMA_1)s AS NVARCHAR(max)) ORDER BY [COLUMNS_1].[ORDINAL_POSITION]\n"
     ]
    },
    {
     "name": "stderr",
     "output_type": "stream",
     "text": [
      "INFO:sqlalchemy.engine.base.Engine:SELECT [COLUMNS_1].[TABLE_SCHEMA], [COLUMNS_1].[TABLE_NAME], [COLUMNS_1].[COLUMN_NAME], [COLUMNS_1].[IS_NULLABLE], [COLUMNS_1].[DATA_TYPE], [COLUMNS_1].[ORDINAL_POSITION], [COLUMNS_1].[CHARACTER_MAXIMUM_LENGTH], [COLUMNS_1].[NUMERIC_PRECISION], [COLUMNS_1].[NUMERIC_SCALE], [COLUMNS_1].[COLUMN_DEFAULT], [COLUMNS_1].[COLLATION_NAME] \n",
      "FROM [INFORMATION_SCHEMA].[COLUMNS] AS [COLUMNS_1] \n",
      "WHERE [COLUMNS_1].[TABLE_NAME] = CAST(%(TABLE_NAME_1)s AS NVARCHAR(max)) AND [COLUMNS_1].[TABLE_SCHEMA] = CAST(%(TABLE_SCHEMA_1)s AS NVARCHAR(max)) ORDER BY [COLUMNS_1].[ORDINAL_POSITION]\n"
     ]
    },
    {
     "name": "stdout",
     "output_type": "stream",
     "text": [
      "2015-05-04 12:21:37,292 INFO sqlalchemy.engine.base.Engine {'TABLE_SCHEMA_1': u'dbo', 'TABLE_NAME_1': 'galaxy'}\n"
     ]
    },
    {
     "name": "stderr",
     "output_type": "stream",
     "text": [
      "INFO:sqlalchemy.engine.base.Engine:{'TABLE_SCHEMA_1': u'dbo', 'TABLE_NAME_1': 'galaxy'}\n"
     ]
    },
    {
     "name": "stdout",
     "output_type": "stream",
     "text": [
      "2015-05-04 12:21:37,426 INFO sqlalchemy.engine.base.Engine sp_columns @table_name = 'galaxy', @table_owner = 'dbo'\n"
     ]
    },
    {
     "name": "stderr",
     "output_type": "stream",
     "text": [
      "INFO:sqlalchemy.engine.base.Engine:sp_columns @table_name = 'galaxy', @table_owner = 'dbo'\n"
     ]
    },
    {
     "name": "stdout",
     "output_type": "stream",
     "text": [
      "2015-05-04 12:21:37,427 INFO sqlalchemy.engine.base.Engine {}\n"
     ]
    },
    {
     "name": "stderr",
     "output_type": "stream",
     "text": [
      "INFO:sqlalchemy.engine.base.Engine:{}\n"
     ]
    },
    {
     "name": "stdout",
     "output_type": "stream",
     "text": [
      "2015-05-04 12:21:37,576 INFO sqlalchemy.engine.base.Engine SELECT [C].[COLUMN_NAME], [TABLE_CONSTRAINTS_1].[CONSTRAINT_TYPE], [C].[CONSTRAINT_NAME] \n",
      "FROM [INFORMATION_SCHEMA].[KEY_COLUMN_USAGE] AS [C], [INFORMATION_SCHEMA].[TABLE_CONSTRAINTS] AS [TABLE_CONSTRAINTS_1] \n",
      "WHERE [TABLE_CONSTRAINTS_1].[CONSTRAINT_NAME] = [C].[CONSTRAINT_NAME] AND [TABLE_CONSTRAINTS_1].[TABLE_SCHEMA] = [C].[TABLE_SCHEMA] AND [C].[TABLE_NAME] = CAST(%(TABLE_NAME_1)s AS NVARCHAR(max)) AND [C].[TABLE_SCHEMA] = CAST(%(TABLE_SCHEMA_1)s AS NVARCHAR(max))\n"
     ]
    },
    {
     "name": "stderr",
     "output_type": "stream",
     "text": [
      "INFO:sqlalchemy.engine.base.Engine:SELECT [C].[COLUMN_NAME], [TABLE_CONSTRAINTS_1].[CONSTRAINT_TYPE], [C].[CONSTRAINT_NAME] \n",
      "FROM [INFORMATION_SCHEMA].[KEY_COLUMN_USAGE] AS [C], [INFORMATION_SCHEMA].[TABLE_CONSTRAINTS] AS [TABLE_CONSTRAINTS_1] \n",
      "WHERE [TABLE_CONSTRAINTS_1].[CONSTRAINT_NAME] = [C].[CONSTRAINT_NAME] AND [TABLE_CONSTRAINTS_1].[TABLE_SCHEMA] = [C].[TABLE_SCHEMA] AND [C].[TABLE_NAME] = CAST(%(TABLE_NAME_1)s AS NVARCHAR(max)) AND [C].[TABLE_SCHEMA] = CAST(%(TABLE_SCHEMA_1)s AS NVARCHAR(max))\n"
     ]
    },
    {
     "name": "stdout",
     "output_type": "stream",
     "text": [
      "2015-05-04 12:21:37,578 INFO sqlalchemy.engine.base.Engine {'TABLE_SCHEMA_1': u'dbo', 'TABLE_NAME_1': 'galaxy'}\n"
     ]
    },
    {
     "name": "stderr",
     "output_type": "stream",
     "text": [
      "INFO:sqlalchemy.engine.base.Engine:{'TABLE_SCHEMA_1': u'dbo', 'TABLE_NAME_1': 'galaxy'}\n"
     ]
    },
    {
     "name": "stdout",
     "output_type": "stream",
     "text": [
      "2015-05-04 12:21:37,689 INFO sqlalchemy.engine.base.Engine SELECT [C].[COLUMN_NAME], [R].[TABLE_SCHEMA], [R].[TABLE_NAME], [R].[COLUMN_NAME], [REFERENTIAL_CONSTRAINTS_1].[CONSTRAINT_NAME], [REFERENTIAL_CONSTRAINTS_1].[MATCH_OPTION], [REFERENTIAL_CONSTRAINTS_1].[UPDATE_RULE], [REFERENTIAL_CONSTRAINTS_1].[DELETE_RULE] \n",
      "FROM [INFORMATION_SCHEMA].[KEY_COLUMN_USAGE] AS [C], [INFORMATION_SCHEMA].[KEY_COLUMN_USAGE] AS [R], [INFORMATION_SCHEMA].[REFERENTIAL_CONSTRAINTS] AS [REFERENTIAL_CONSTRAINTS_1] \n",
      "WHERE [C].[TABLE_NAME] = CAST(%(TABLE_NAME_1)s AS NVARCHAR(max)) AND [C].[TABLE_SCHEMA] = CAST(%(TABLE_SCHEMA_1)s AS NVARCHAR(max)) AND [C].[CONSTRAINT_NAME] = [REFERENTIAL_CONSTRAINTS_1].[CONSTRAINT_NAME] AND [R].[CONSTRAINT_NAME] = [REFERENTIAL_CONSTRAINTS_1].[UNIQUE_CONSTRAINT_NAME] AND [C].[ORDINAL_POSITION] = [R].[ORDINAL_POSITION] ORDER BY [REFERENTIAL_CONSTRAINTS_1].[CONSTRAINT_NAME], [R].[ORDINAL_POSITION]\n"
     ]
    },
    {
     "name": "stderr",
     "output_type": "stream",
     "text": [
      "INFO:sqlalchemy.engine.base.Engine:SELECT [C].[COLUMN_NAME], [R].[TABLE_SCHEMA], [R].[TABLE_NAME], [R].[COLUMN_NAME], [REFERENTIAL_CONSTRAINTS_1].[CONSTRAINT_NAME], [REFERENTIAL_CONSTRAINTS_1].[MATCH_OPTION], [REFERENTIAL_CONSTRAINTS_1].[UPDATE_RULE], [REFERENTIAL_CONSTRAINTS_1].[DELETE_RULE] \n",
      "FROM [INFORMATION_SCHEMA].[KEY_COLUMN_USAGE] AS [C], [INFORMATION_SCHEMA].[KEY_COLUMN_USAGE] AS [R], [INFORMATION_SCHEMA].[REFERENTIAL_CONSTRAINTS] AS [REFERENTIAL_CONSTRAINTS_1] \n",
      "WHERE [C].[TABLE_NAME] = CAST(%(TABLE_NAME_1)s AS NVARCHAR(max)) AND [C].[TABLE_SCHEMA] = CAST(%(TABLE_SCHEMA_1)s AS NVARCHAR(max)) AND [C].[CONSTRAINT_NAME] = [REFERENTIAL_CONSTRAINTS_1].[CONSTRAINT_NAME] AND [R].[CONSTRAINT_NAME] = [REFERENTIAL_CONSTRAINTS_1].[UNIQUE_CONSTRAINT_NAME] AND [C].[ORDINAL_POSITION] = [R].[ORDINAL_POSITION] ORDER BY [REFERENTIAL_CONSTRAINTS_1].[CONSTRAINT_NAME], [R].[ORDINAL_POSITION]\n"
     ]
    },
    {
     "name": "stdout",
     "output_type": "stream",
     "text": [
      "2015-05-04 12:21:37,691 INFO sqlalchemy.engine.base.Engine {'TABLE_SCHEMA_1': u'dbo', 'TABLE_NAME_1': 'galaxy'}\n"
     ]
    },
    {
     "name": "stderr",
     "output_type": "stream",
     "text": [
      "INFO:sqlalchemy.engine.base.Engine:{'TABLE_SCHEMA_1': u'dbo', 'TABLE_NAME_1': 'galaxy'}\n"
     ]
    },
    {
     "name": "stdout",
     "output_type": "stream",
     "text": [
      "2015-05-04 12:21:37,764 INFO sqlalchemy.engine.base.Engine select ind.index_id, ind.is_unique, ind.name from sys.indexes as ind join sys.tables as tab on ind.object_id=tab.object_id join sys.schemas as sch on sch.schema_id=tab.schema_id where tab.name = %(tabname)s and sch.name=%(schname)s and ind.is_primary_key=0\n"
     ]
    },
    {
     "name": "stderr",
     "output_type": "stream",
     "text": [
      "INFO:sqlalchemy.engine.base.Engine:select ind.index_id, ind.is_unique, ind.name from sys.indexes as ind join sys.tables as tab on ind.object_id=tab.object_id join sys.schemas as sch on sch.schema_id=tab.schema_id where tab.name = %(tabname)s and sch.name=%(schname)s and ind.is_primary_key=0\n"
     ]
    },
    {
     "name": "stdout",
     "output_type": "stream",
     "text": [
      "2015-05-04 12:21:37,765 INFO sqlalchemy.engine.base.Engine {'tabname': 'galaxy', 'schname': u'dbo'}\n"
     ]
    },
    {
     "name": "stderr",
     "output_type": "stream",
     "text": [
      "INFO:sqlalchemy.engine.base.Engine:{'tabname': 'galaxy', 'schname': u'dbo'}\n"
     ]
    },
    {
     "name": "stdout",
     "output_type": "stream",
     "text": [
      "2015-05-04 12:21:37,821 INFO sqlalchemy.engine.base.Engine select ind_col.index_id, ind_col.object_id, col.name from sys.columns as col join sys.tables as tab on tab.object_id=col.object_id join sys.index_columns as ind_col on (ind_col.column_id=col.column_id and ind_col.object_id=tab.object_id) join sys.schemas as sch on sch.schema_id=tab.schema_id where tab.name=%(tabname)s and sch.name=%(schname)s\n"
     ]
    },
    {
     "name": "stderr",
     "output_type": "stream",
     "text": [
      "INFO:sqlalchemy.engine.base.Engine:select ind_col.index_id, ind_col.object_id, col.name from sys.columns as col join sys.tables as tab on tab.object_id=col.object_id join sys.index_columns as ind_col on (ind_col.column_id=col.column_id and ind_col.object_id=tab.object_id) join sys.schemas as sch on sch.schema_id=tab.schema_id where tab.name=%(tabname)s and sch.name=%(schname)s\n"
     ]
    },
    {
     "name": "stdout",
     "output_type": "stream",
     "text": [
      "2015-05-04 12:21:37,822 INFO sqlalchemy.engine.base.Engine {'tabname': 'galaxy', 'schname': u'dbo'}\n"
     ]
    },
    {
     "name": "stderr",
     "output_type": "stream",
     "text": [
      "INFO:sqlalchemy.engine.base.Engine:{'tabname': 'galaxy', 'schname': u'dbo'}\n",
      "Database column, htmid, overridden in self.columns... Skipping default assignment.\n",
      "Database column, galid, overridden in self.columns... Skipping default assignment.\n",
      "Database column, ra, overridden in self.columns... Skipping default assignment.\n",
      "Database column, dec, overridden in self.columns... Skipping default assignment.\n",
      "Database column, redshift, overridden in self.columns... Skipping default assignment.\n",
      "Database column, rad_vel, overridden in self.columns... Skipping default assignment.\n",
      "Database column, u_ab, overridden in self.columns... Skipping default assignment.\n",
      "Database column, g_ab, overridden in self.columns... Skipping default assignment.\n",
      "Database column, r_ab, overridden in self.columns... Skipping default assignment.\n",
      "Database column, i_ab, overridden in self.columns... Skipping default assignment.\n",
      "Database column, z_ab, overridden in self.columns... Skipping default assignment.\n",
      "Database column, y_ab, overridden in self.columns... Skipping default assignment.\n",
      "Database column, sedid_bulge, overridden in self.columns... Skipping default assignment.\n",
      "Database column, sedid_disk, overridden in self.columns... Skipping default assignment.\n",
      "Database column, sedid_agn, overridden in self.columns... Skipping default assignment.\n",
      "Database column, av_b, overridden in self.columns... Skipping default assignment.\n",
      "Database column, rv_b, overridden in self.columns... Skipping default assignment.\n",
      "Database column, ext_model_b, overridden in self.columns... Skipping default assignment.\n",
      "Database column, av_d, overridden in self.columns... Skipping default assignment.\n",
      "Database column, rv_d, overridden in self.columns... Skipping default assignment.\n",
      "Database column, ext_model_d, overridden in self.columns... Skipping default assignment.\n",
      "Database column, glon, overridden in self.columns... Skipping default assignment.\n",
      "Database column, glat, overridden in self.columns... Skipping default assignment.\n",
      "Database column, pa_bulge, overridden in self.columns... Skipping default assignment.\n",
      "Database column, pa_disk, overridden in self.columns... Skipping default assignment.\n",
      "Database column, inc_bulge_deg, overridden in self.columns... Skipping default assignment.\n",
      "Database column, inc_disk_deg, overridden in self.columns... Skipping default assignment.\n",
      "Database column, a_b, overridden in self.columns... Skipping default assignment.\n",
      "Database column, b_b, overridden in self.columns... Skipping default assignment.\n",
      "Database column, bulge_n, overridden in self.columns... Skipping default assignment.\n",
      "Database column, bra, overridden in self.columns... Skipping default assignment.\n",
      "Database column, bdec, overridden in self.columns... Skipping default assignment.\n",
      "Database column, a_d, overridden in self.columns... Skipping default assignment.\n",
      "Database column, b_d, overridden in self.columns... Skipping default assignment.\n",
      "Database column, disk_n, overridden in self.columns... Skipping default assignment.\n",
      "Database column, dra, overridden in self.columns... Skipping default assignment.\n",
      "Database column, ddec, overridden in self.columns... Skipping default assignment.\n",
      "Database column, agnra, overridden in self.columns... Skipping default assignment.\n",
      "Database column, agndec, overridden in self.columns... Skipping default assignment.\n",
      "Database column, versionid, overridden in self.columns... Skipping default assignment.\n",
      "Database column, fluxnorm_bulge, overridden in self.columns... Skipping default assignment.\n",
      "Database column, fluxnorm_agn, overridden in self.columns... Skipping default assignment.\n",
      "Database column, absmag_r_total, overridden in self.columns... Skipping default assignment.\n",
      "Database column, gal_type, overridden in self.columns... Skipping default assignment.\n",
      "Database column, mass_stellar, overridden in self.columns... Skipping default assignment.\n",
      "Database column, mass_gas, overridden in self.columns... Skipping default assignment.\n",
      "Database column, mass_halo, overridden in self.columns... Skipping default assignment.\n",
      "Database column, ug_total_rest, overridden in self.columns... Skipping default assignment.\n",
      "Database column, gr_total_rest, overridden in self.columns... Skipping default assignment.\n",
      "Database column, ri_total_rest, overridden in self.columns... Skipping default assignment.\n",
      "Database column, iz_total_rest, overridden in self.columns... Skipping default assignment.\n",
      "Database column, zy_total_rest, overridden in self.columns... Skipping default assignment.\n",
      "Database column, isagn, overridden in self.columns... Skipping default assignment.\n",
      "Database column, agn_tau, overridden in self.columns... Skipping default assignment.\n",
      "Database column, agn_sfu, overridden in self.columns... Skipping default assignment.\n",
      "Database column, agn_sfg, overridden in self.columns... Skipping default assignment.\n",
      "Database column, agn_sfr, overridden in self.columns... Skipping default assignment.\n",
      "Database column, agn_sfi, overridden in self.columns... Skipping default assignment.\n",
      "Database column, agn_sfz, overridden in self.columns... Skipping default assignment.\n",
      "Database column, agn_sfy, overridden in self.columns... Skipping default assignment.\n",
      "Database column, fluxnorm_disk, overridden in self.columns... Skipping default assignment.\n",
      "Database column, magnorm_bulge, overridden in self.columns... Skipping default assignment.\n",
      "Database column, magnorm_disk, overridden in self.columns... Skipping default assignment.\n",
      "Database column, magnorm_agn, overridden in self.columns... Skipping default assignment.\n",
      "Database column, cx, overridden in self.columns... Skipping default assignment.\n",
      "Database column, cy, overridden in self.columns... Skipping default assignment.\n",
      "Database column, cz, overridden in self.columns... Skipping default assignment.\n",
      "Can't create default column for geopoint.  There is no mapping for type NULL.  Modify the dbTypeMap, or make a custom columns list.\n",
      "Database column, sedname_agn, overridden in self.columns... Skipping default assignment.\n",
      "Database column, sedname_bulge, overridden in self.columns... Skipping default assignment.\n",
      "Database column, sedname_disk, overridden in self.columns... Skipping default assignment.\n",
      "Database column, varsimobjid, overridden in self.columns... Skipping default assignment.\n",
      "Database column, varParamStr, overridden in self.columns... Skipping default assignment.\n",
      "Database column, type, overridden in self.columns... Skipping default assignment.\n",
      "Database column, mass_bulge, overridden in self.columns... Skipping default assignment.\n",
      "Database column, BulgeMinusDiskLSSTr, overridden in self.columns... Skipping default assignment.\n",
      "Database column, log10BulgeToTotLSSTrFlux, overridden in self.columns... Skipping default assignment.\n",
      "Database column, AbsiMag, overridden in self.columns... Skipping default assignment.\n",
      "Database column, AbsiMag0_1, overridden in self.columns... Skipping default assignment.\n",
      "Database column, z0_1umg, overridden in self.columns... Skipping default assignment.\n",
      "Database column, z0_1gmr, overridden in self.columns... Skipping default assignment.\n",
      "Database column, z0_1rmi, overridden in self.columns... Skipping default assignment.\n",
      "Database column, z0_1imz, overridden in self.columns... Skipping default assignment.\n",
      "Database column, z0_1zmy, overridden in self.columns... Skipping default assignment.\n",
      "Database column, ba_disk, overridden in self.columns... Skipping default assignment.\n",
      "Database column, ba_bulge, overridden in self.columns... Skipping default assignment.\n",
      "Database column, DiskHalfLightRadius, overridden in self.columns... Skipping default assignment.\n",
      "Database column, DiskLSSTu, overridden in self.columns... Skipping default assignment.\n",
      "Database column, DiskLSSTg, overridden in self.columns... Skipping default assignment.\n",
      "Database column, DiskLSSTr, overridden in self.columns... Skipping default assignment.\n",
      "Database column, DiskLSSTi, overridden in self.columns... Skipping default assignment.\n",
      "Database column, DiskLSSTz, overridden in self.columns... Skipping default assignment.\n",
      "Database column, DiskLSSTy, overridden in self.columns... Skipping default assignment.\n",
      "Database column, BulgeLSSTu, overridden in self.columns... Skipping default assignment.\n",
      "Database column, BulgeLSSTg, overridden in self.columns... Skipping default assignment.\n",
      "Database column, BulgeLSSTr, overridden in self.columns... Skipping default assignment.\n",
      "Database column, BulgeLSSTi, overridden in self.columns... Skipping default assignment.\n",
      "Database column, BulgeLSSTz, overridden in self.columns... Skipping default assignment.\n",
      "Database column, BulgeLSSTy, overridden in self.columns... Skipping default assignment.\n",
      "Database column, AGNID, overridden in self.columns... Skipping default assignment.\n",
      "Database column, BulgeHalfLightRadius, overridden in self.columns... Skipping default assignment.\n",
      "Database column, t0_agn, overridden in self.columns... Skipping default assignment.\n",
      "Database column, id, overridden in self.columns... Skipping default assignment.\n",
      "Database column, myid, overridden in self.columns... Skipping default assignment.\n"
     ]
    }
   ],
   "source": [
    "from lsst.sims.catUtils.baseCatalogModels import GalaxyAgnObj\n",
    "from lsst.sims.utils import ObservationMetaData\n",
    "\n",
    "obsMetadata = ObservationMetaData(unrefractedRA=45., unrefractedDec=1.0,\n",
    "                                          boundType='circle', boundLength=0.05,\n",
    "                                          mjd=57086)\n",
    "galaxyAgnDB = GalaxyAgnObj(verbose=True)\n",
    "#result = galaxyAgnDB.query_columns(['raJ2000', 'decJ2000'], \n",
    "#                                   obs_metadata=obsMetadata)\n"
   ]
  },
  {
   "cell_type": "markdown",
   "metadata": {},
   "source": [
    "### Off Campus"
   ]
  },
  {
   "cell_type": "markdown",
   "metadata": {},
   "source": [
    "First you need to establish your ssh tunnel, using local port forwarding switch -L. "
   ]
  },
  {
   "cell_type": "raw",
   "metadata": {},
   "source": [
    "ssh -L <local-port-to-listen>:<remote-host>:<remote-port> <ssh server on campus>"
   ]
  },
  {
   "cell_type": "markdown",
   "metadata": {},
   "source": [
    "For example: \n",
    "<code>\n",
    "$>  ssh -L 5555:fatboy.npl.washington.edu:1433 yusra@gateway.astro.washington.edu\n",
    "</code>"
   ]
  },
  {
   "cell_type": "markdown",
   "metadata": {},
   "source": [
    "Your local ssh client will connect to the ssh server running on gateway.astro.washington.edu and bind the local port 1434 to remote port 1433 of fatboy.npl.washington.edu.  \n",
    "gateway.astro.washington.edu is within the private network and reach the fatboy. \n",
    "\n",
    "Now from your local computer, the database looks like it is at localhost:5555"
   ]
  },
  {
   "cell_type": "code",
   "execution_count": 11,
   "metadata": {
    "collapsed": false
   },
   "outputs": [
    {
     "name": "stdout",
     "output_type": "stream",
     "text": [
      "2015-05-04 12:22:19,199 INFO sqlalchemy.engine.base.Engine select @@version\n"
     ]
    },
    {
     "name": "stderr",
     "output_type": "stream",
     "text": [
      "INFO:sqlalchemy.engine.base.Engine:select @@version\n"
     ]
    },
    {
     "name": "stdout",
     "output_type": "stream",
     "text": [
      "2015-05-04 12:22:19,202 INFO sqlalchemy.engine.base.Engine {}\n"
     ]
    },
    {
     "name": "stderr",
     "output_type": "stream",
     "text": [
      "INFO:sqlalchemy.engine.base.Engine:{}\n"
     ]
    },
    {
     "name": "stdout",
     "output_type": "stream",
     "text": [
      "2015-05-04 12:22:19,252 INFO sqlalchemy.engine.base.Engine \n",
      "            SELECT default_schema_name FROM\n",
      "            sys.database_principals\n",
      "            WHERE principal_id=database_principal_id()\n",
      "        \n"
     ]
    },
    {
     "name": "stderr",
     "output_type": "stream",
     "text": [
      "INFO:sqlalchemy.engine.base.Engine:\n",
      "            SELECT default_schema_name FROM\n",
      "            sys.database_principals\n",
      "            WHERE principal_id=database_principal_id()\n",
      "        \n"
     ]
    },
    {
     "name": "stdout",
     "output_type": "stream",
     "text": [
      "2015-05-04 12:22:19,253 INFO sqlalchemy.engine.base.Engine {}\n"
     ]
    },
    {
     "name": "stderr",
     "output_type": "stream",
     "text": [
      "INFO:sqlalchemy.engine.base.Engine:{}\n"
     ]
    },
    {
     "name": "stdout",
     "output_type": "stream",
     "text": [
      "2015-05-04 12:22:19,353 INFO sqlalchemy.engine.base.Engine SELECT CAST('test plain returns' AS VARCHAR(60)) AS anon_1\n"
     ]
    },
    {
     "name": "stderr",
     "output_type": "stream",
     "text": [
      "INFO:sqlalchemy.engine.base.Engine:SELECT CAST('test plain returns' AS VARCHAR(60)) AS anon_1\n"
     ]
    },
    {
     "name": "stdout",
     "output_type": "stream",
     "text": [
      "2015-05-04 12:22:19,354 INFO sqlalchemy.engine.base.Engine {}\n"
     ]
    },
    {
     "name": "stderr",
     "output_type": "stream",
     "text": [
      "INFO:sqlalchemy.engine.base.Engine:{}\n"
     ]
    },
    {
     "name": "stdout",
     "output_type": "stream",
     "text": [
      "2015-05-04 12:22:19,457 INFO sqlalchemy.engine.base.Engine SELECT CAST('test unicode returns' AS NVARCHAR(60)) AS anon_1\n"
     ]
    },
    {
     "name": "stderr",
     "output_type": "stream",
     "text": [
      "INFO:sqlalchemy.engine.base.Engine:SELECT CAST('test unicode returns' AS NVARCHAR(60)) AS anon_1\n"
     ]
    },
    {
     "name": "stdout",
     "output_type": "stream",
     "text": [
      "2015-05-04 12:22:19,458 INFO sqlalchemy.engine.base.Engine {}\n"
     ]
    },
    {
     "name": "stderr",
     "output_type": "stream",
     "text": [
      "INFO:sqlalchemy.engine.base.Engine:{}\n"
     ]
    },
    {
     "name": "stdout",
     "output_type": "stream",
     "text": [
      "2015-05-04 12:22:19,795 INFO sqlalchemy.engine.base.Engine SELECT [COLUMNS_1].[TABLE_SCHEMA], [COLUMNS_1].[TABLE_NAME], [COLUMNS_1].[COLUMN_NAME], [COLUMNS_1].[IS_NULLABLE], [COLUMNS_1].[DATA_TYPE], [COLUMNS_1].[ORDINAL_POSITION], [COLUMNS_1].[CHARACTER_MAXIMUM_LENGTH], [COLUMNS_1].[NUMERIC_PRECISION], [COLUMNS_1].[NUMERIC_SCALE], [COLUMNS_1].[COLUMN_DEFAULT], [COLUMNS_1].[COLLATION_NAME] \n",
      "FROM [INFORMATION_SCHEMA].[COLUMNS] AS [COLUMNS_1] \n",
      "WHERE [COLUMNS_1].[TABLE_NAME] = CAST(%(TABLE_NAME_1)s AS NVARCHAR(max)) AND [COLUMNS_1].[TABLE_SCHEMA] = CAST(%(TABLE_SCHEMA_1)s AS NVARCHAR(max)) ORDER BY [COLUMNS_1].[ORDINAL_POSITION]\n"
     ]
    },
    {
     "name": "stderr",
     "output_type": "stream",
     "text": [
      "INFO:sqlalchemy.engine.base.Engine:SELECT [COLUMNS_1].[TABLE_SCHEMA], [COLUMNS_1].[TABLE_NAME], [COLUMNS_1].[COLUMN_NAME], [COLUMNS_1].[IS_NULLABLE], [COLUMNS_1].[DATA_TYPE], [COLUMNS_1].[ORDINAL_POSITION], [COLUMNS_1].[CHARACTER_MAXIMUM_LENGTH], [COLUMNS_1].[NUMERIC_PRECISION], [COLUMNS_1].[NUMERIC_SCALE], [COLUMNS_1].[COLUMN_DEFAULT], [COLUMNS_1].[COLLATION_NAME] \n",
      "FROM [INFORMATION_SCHEMA].[COLUMNS] AS [COLUMNS_1] \n",
      "WHERE [COLUMNS_1].[TABLE_NAME] = CAST(%(TABLE_NAME_1)s AS NVARCHAR(max)) AND [COLUMNS_1].[TABLE_SCHEMA] = CAST(%(TABLE_SCHEMA_1)s AS NVARCHAR(max)) ORDER BY [COLUMNS_1].[ORDINAL_POSITION]\n"
     ]
    },
    {
     "name": "stdout",
     "output_type": "stream",
     "text": [
      "2015-05-04 12:22:19,796 INFO sqlalchemy.engine.base.Engine {'TABLE_SCHEMA_1': u'dbo', 'TABLE_NAME_1': 'galaxy'}\n"
     ]
    },
    {
     "name": "stderr",
     "output_type": "stream",
     "text": [
      "INFO:sqlalchemy.engine.base.Engine:{'TABLE_SCHEMA_1': u'dbo', 'TABLE_NAME_1': 'galaxy'}\n"
     ]
    },
    {
     "name": "stdout",
     "output_type": "stream",
     "text": [
      "2015-05-04 12:22:19,891 INFO sqlalchemy.engine.base.Engine sp_columns @table_name = 'galaxy', @table_owner = 'dbo'\n"
     ]
    },
    {
     "name": "stderr",
     "output_type": "stream",
     "text": [
      "INFO:sqlalchemy.engine.base.Engine:sp_columns @table_name = 'galaxy', @table_owner = 'dbo'\n"
     ]
    },
    {
     "name": "stdout",
     "output_type": "stream",
     "text": [
      "2015-05-04 12:22:19,892 INFO sqlalchemy.engine.base.Engine {}\n"
     ]
    },
    {
     "name": "stderr",
     "output_type": "stream",
     "text": [
      "INFO:sqlalchemy.engine.base.Engine:{}\n"
     ]
    },
    {
     "name": "stdout",
     "output_type": "stream",
     "text": [
      "2015-05-04 12:22:20,024 INFO sqlalchemy.engine.base.Engine SELECT [C].[COLUMN_NAME], [TABLE_CONSTRAINTS_1].[CONSTRAINT_TYPE], [C].[CONSTRAINT_NAME] \n",
      "FROM [INFORMATION_SCHEMA].[KEY_COLUMN_USAGE] AS [C], [INFORMATION_SCHEMA].[TABLE_CONSTRAINTS] AS [TABLE_CONSTRAINTS_1] \n",
      "WHERE [TABLE_CONSTRAINTS_1].[CONSTRAINT_NAME] = [C].[CONSTRAINT_NAME] AND [TABLE_CONSTRAINTS_1].[TABLE_SCHEMA] = [C].[TABLE_SCHEMA] AND [C].[TABLE_NAME] = CAST(%(TABLE_NAME_1)s AS NVARCHAR(max)) AND [C].[TABLE_SCHEMA] = CAST(%(TABLE_SCHEMA_1)s AS NVARCHAR(max))\n"
     ]
    },
    {
     "name": "stderr",
     "output_type": "stream",
     "text": [
      "INFO:sqlalchemy.engine.base.Engine:SELECT [C].[COLUMN_NAME], [TABLE_CONSTRAINTS_1].[CONSTRAINT_TYPE], [C].[CONSTRAINT_NAME] \n",
      "FROM [INFORMATION_SCHEMA].[KEY_COLUMN_USAGE] AS [C], [INFORMATION_SCHEMA].[TABLE_CONSTRAINTS] AS [TABLE_CONSTRAINTS_1] \n",
      "WHERE [TABLE_CONSTRAINTS_1].[CONSTRAINT_NAME] = [C].[CONSTRAINT_NAME] AND [TABLE_CONSTRAINTS_1].[TABLE_SCHEMA] = [C].[TABLE_SCHEMA] AND [C].[TABLE_NAME] = CAST(%(TABLE_NAME_1)s AS NVARCHAR(max)) AND [C].[TABLE_SCHEMA] = CAST(%(TABLE_SCHEMA_1)s AS NVARCHAR(max))\n"
     ]
    },
    {
     "name": "stdout",
     "output_type": "stream",
     "text": [
      "2015-05-04 12:22:20,026 INFO sqlalchemy.engine.base.Engine {'TABLE_SCHEMA_1': u'dbo', 'TABLE_NAME_1': 'galaxy'}\n"
     ]
    },
    {
     "name": "stderr",
     "output_type": "stream",
     "text": [
      "INFO:sqlalchemy.engine.base.Engine:{'TABLE_SCHEMA_1': u'dbo', 'TABLE_NAME_1': 'galaxy'}\n"
     ]
    },
    {
     "name": "stdout",
     "output_type": "stream",
     "text": [
      "2015-05-04 12:22:20,139 INFO sqlalchemy.engine.base.Engine SELECT [C].[COLUMN_NAME], [R].[TABLE_SCHEMA], [R].[TABLE_NAME], [R].[COLUMN_NAME], [REFERENTIAL_CONSTRAINTS_1].[CONSTRAINT_NAME], [REFERENTIAL_CONSTRAINTS_1].[MATCH_OPTION], [REFERENTIAL_CONSTRAINTS_1].[UPDATE_RULE], [REFERENTIAL_CONSTRAINTS_1].[DELETE_RULE] \n",
      "FROM [INFORMATION_SCHEMA].[KEY_COLUMN_USAGE] AS [C], [INFORMATION_SCHEMA].[KEY_COLUMN_USAGE] AS [R], [INFORMATION_SCHEMA].[REFERENTIAL_CONSTRAINTS] AS [REFERENTIAL_CONSTRAINTS_1] \n",
      "WHERE [C].[TABLE_NAME] = CAST(%(TABLE_NAME_1)s AS NVARCHAR(max)) AND [C].[TABLE_SCHEMA] = CAST(%(TABLE_SCHEMA_1)s AS NVARCHAR(max)) AND [C].[CONSTRAINT_NAME] = [REFERENTIAL_CONSTRAINTS_1].[CONSTRAINT_NAME] AND [R].[CONSTRAINT_NAME] = [REFERENTIAL_CONSTRAINTS_1].[UNIQUE_CONSTRAINT_NAME] AND [C].[ORDINAL_POSITION] = [R].[ORDINAL_POSITION] ORDER BY [REFERENTIAL_CONSTRAINTS_1].[CONSTRAINT_NAME], [R].[ORDINAL_POSITION]\n"
     ]
    },
    {
     "name": "stderr",
     "output_type": "stream",
     "text": [
      "INFO:sqlalchemy.engine.base.Engine:SELECT [C].[COLUMN_NAME], [R].[TABLE_SCHEMA], [R].[TABLE_NAME], [R].[COLUMN_NAME], [REFERENTIAL_CONSTRAINTS_1].[CONSTRAINT_NAME], [REFERENTIAL_CONSTRAINTS_1].[MATCH_OPTION], [REFERENTIAL_CONSTRAINTS_1].[UPDATE_RULE], [REFERENTIAL_CONSTRAINTS_1].[DELETE_RULE] \n",
      "FROM [INFORMATION_SCHEMA].[KEY_COLUMN_USAGE] AS [C], [INFORMATION_SCHEMA].[KEY_COLUMN_USAGE] AS [R], [INFORMATION_SCHEMA].[REFERENTIAL_CONSTRAINTS] AS [REFERENTIAL_CONSTRAINTS_1] \n",
      "WHERE [C].[TABLE_NAME] = CAST(%(TABLE_NAME_1)s AS NVARCHAR(max)) AND [C].[TABLE_SCHEMA] = CAST(%(TABLE_SCHEMA_1)s AS NVARCHAR(max)) AND [C].[CONSTRAINT_NAME] = [REFERENTIAL_CONSTRAINTS_1].[CONSTRAINT_NAME] AND [R].[CONSTRAINT_NAME] = [REFERENTIAL_CONSTRAINTS_1].[UNIQUE_CONSTRAINT_NAME] AND [C].[ORDINAL_POSITION] = [R].[ORDINAL_POSITION] ORDER BY [REFERENTIAL_CONSTRAINTS_1].[CONSTRAINT_NAME], [R].[ORDINAL_POSITION]\n"
     ]
    },
    {
     "name": "stdout",
     "output_type": "stream",
     "text": [
      "2015-05-04 12:22:20,141 INFO sqlalchemy.engine.base.Engine {'TABLE_SCHEMA_1': u'dbo', 'TABLE_NAME_1': 'galaxy'}\n"
     ]
    },
    {
     "name": "stderr",
     "output_type": "stream",
     "text": [
      "INFO:sqlalchemy.engine.base.Engine:{'TABLE_SCHEMA_1': u'dbo', 'TABLE_NAME_1': 'galaxy'}\n"
     ]
    },
    {
     "name": "stdout",
     "output_type": "stream",
     "text": [
      "2015-05-04 12:22:20,218 INFO sqlalchemy.engine.base.Engine select ind.index_id, ind.is_unique, ind.name from sys.indexes as ind join sys.tables as tab on ind.object_id=tab.object_id join sys.schemas as sch on sch.schema_id=tab.schema_id where tab.name = %(tabname)s and sch.name=%(schname)s and ind.is_primary_key=0\n"
     ]
    },
    {
     "name": "stderr",
     "output_type": "stream",
     "text": [
      "INFO:sqlalchemy.engine.base.Engine:select ind.index_id, ind.is_unique, ind.name from sys.indexes as ind join sys.tables as tab on ind.object_id=tab.object_id join sys.schemas as sch on sch.schema_id=tab.schema_id where tab.name = %(tabname)s and sch.name=%(schname)s and ind.is_primary_key=0\n"
     ]
    },
    {
     "name": "stdout",
     "output_type": "stream",
     "text": [
      "2015-05-04 12:22:20,220 INFO sqlalchemy.engine.base.Engine {'tabname': 'galaxy', 'schname': u'dbo'}\n"
     ]
    },
    {
     "name": "stderr",
     "output_type": "stream",
     "text": [
      "INFO:sqlalchemy.engine.base.Engine:{'tabname': 'galaxy', 'schname': u'dbo'}\n"
     ]
    },
    {
     "name": "stdout",
     "output_type": "stream",
     "text": [
      "2015-05-04 12:22:20,279 INFO sqlalchemy.engine.base.Engine select ind_col.index_id, ind_col.object_id, col.name from sys.columns as col join sys.tables as tab on tab.object_id=col.object_id join sys.index_columns as ind_col on (ind_col.column_id=col.column_id and ind_col.object_id=tab.object_id) join sys.schemas as sch on sch.schema_id=tab.schema_id where tab.name=%(tabname)s and sch.name=%(schname)s\n"
     ]
    },
    {
     "name": "stderr",
     "output_type": "stream",
     "text": [
      "INFO:sqlalchemy.engine.base.Engine:select ind_col.index_id, ind_col.object_id, col.name from sys.columns as col join sys.tables as tab on tab.object_id=col.object_id join sys.index_columns as ind_col on (ind_col.column_id=col.column_id and ind_col.object_id=tab.object_id) join sys.schemas as sch on sch.schema_id=tab.schema_id where tab.name=%(tabname)s and sch.name=%(schname)s\n"
     ]
    },
    {
     "name": "stdout",
     "output_type": "stream",
     "text": [
      "2015-05-04 12:22:20,282 INFO sqlalchemy.engine.base.Engine {'tabname': 'galaxy', 'schname': u'dbo'}\n"
     ]
    },
    {
     "name": "stderr",
     "output_type": "stream",
     "text": [
      "INFO:sqlalchemy.engine.base.Engine:{'tabname': 'galaxy', 'schname': u'dbo'}\n",
      "Database column, htmid, overridden in self.columns... Skipping default assignment.\n",
      "Database column, galid, overridden in self.columns... Skipping default assignment.\n",
      "Database column, ra, overridden in self.columns... Skipping default assignment.\n",
      "Database column, dec, overridden in self.columns... Skipping default assignment.\n",
      "Database column, redshift, overridden in self.columns... Skipping default assignment.\n",
      "Database column, rad_vel, overridden in self.columns... Skipping default assignment.\n",
      "Database column, u_ab, overridden in self.columns... Skipping default assignment.\n",
      "Database column, g_ab, overridden in self.columns... Skipping default assignment.\n",
      "Database column, r_ab, overridden in self.columns... Skipping default assignment.\n",
      "Database column, i_ab, overridden in self.columns... Skipping default assignment.\n",
      "Database column, z_ab, overridden in self.columns... Skipping default assignment.\n",
      "Database column, y_ab, overridden in self.columns... Skipping default assignment.\n",
      "Database column, sedid_bulge, overridden in self.columns... Skipping default assignment.\n",
      "Database column, sedid_disk, overridden in self.columns... Skipping default assignment.\n",
      "Database column, sedid_agn, overridden in self.columns... Skipping default assignment.\n",
      "Database column, av_b, overridden in self.columns... Skipping default assignment.\n",
      "Database column, rv_b, overridden in self.columns... Skipping default assignment.\n",
      "Database column, ext_model_b, overridden in self.columns... Skipping default assignment.\n",
      "Database column, av_d, overridden in self.columns... Skipping default assignment.\n",
      "Database column, rv_d, overridden in self.columns... Skipping default assignment.\n",
      "Database column, ext_model_d, overridden in self.columns... Skipping default assignment.\n",
      "Database column, glon, overridden in self.columns... Skipping default assignment.\n",
      "Database column, glat, overridden in self.columns... Skipping default assignment.\n",
      "Database column, pa_bulge, overridden in self.columns... Skipping default assignment.\n",
      "Database column, pa_disk, overridden in self.columns... Skipping default assignment.\n",
      "Database column, inc_bulge_deg, overridden in self.columns... Skipping default assignment.\n",
      "Database column, inc_disk_deg, overridden in self.columns... Skipping default assignment.\n",
      "Database column, a_b, overridden in self.columns... Skipping default assignment.\n",
      "Database column, b_b, overridden in self.columns... Skipping default assignment.\n",
      "Database column, bulge_n, overridden in self.columns... Skipping default assignment.\n",
      "Database column, bra, overridden in self.columns... Skipping default assignment.\n",
      "Database column, bdec, overridden in self.columns... Skipping default assignment.\n",
      "Database column, a_d, overridden in self.columns... Skipping default assignment.\n",
      "Database column, b_d, overridden in self.columns... Skipping default assignment.\n",
      "Database column, disk_n, overridden in self.columns... Skipping default assignment.\n",
      "Database column, dra, overridden in self.columns... Skipping default assignment.\n",
      "Database column, ddec, overridden in self.columns... Skipping default assignment.\n",
      "Database column, agnra, overridden in self.columns... Skipping default assignment.\n",
      "Database column, agndec, overridden in self.columns... Skipping default assignment.\n",
      "Database column, versionid, overridden in self.columns... Skipping default assignment.\n",
      "Database column, fluxnorm_bulge, overridden in self.columns... Skipping default assignment.\n",
      "Database column, fluxnorm_agn, overridden in self.columns... Skipping default assignment.\n",
      "Database column, absmag_r_total, overridden in self.columns... Skipping default assignment.\n",
      "Database column, gal_type, overridden in self.columns... Skipping default assignment.\n",
      "Database column, mass_stellar, overridden in self.columns... Skipping default assignment.\n",
      "Database column, mass_gas, overridden in self.columns... Skipping default assignment.\n",
      "Database column, mass_halo, overridden in self.columns... Skipping default assignment.\n",
      "Database column, ug_total_rest, overridden in self.columns... Skipping default assignment.\n",
      "Database column, gr_total_rest, overridden in self.columns... Skipping default assignment.\n",
      "Database column, ri_total_rest, overridden in self.columns... Skipping default assignment.\n",
      "Database column, iz_total_rest, overridden in self.columns... Skipping default assignment.\n",
      "Database column, zy_total_rest, overridden in self.columns... Skipping default assignment.\n",
      "Database column, isagn, overridden in self.columns... Skipping default assignment.\n",
      "Database column, agn_tau, overridden in self.columns... Skipping default assignment.\n",
      "Database column, agn_sfu, overridden in self.columns... Skipping default assignment.\n",
      "Database column, agn_sfg, overridden in self.columns... Skipping default assignment.\n",
      "Database column, agn_sfr, overridden in self.columns... Skipping default assignment.\n",
      "Database column, agn_sfi, overridden in self.columns... Skipping default assignment.\n",
      "Database column, agn_sfz, overridden in self.columns... Skipping default assignment.\n",
      "Database column, agn_sfy, overridden in self.columns... Skipping default assignment.\n",
      "Database column, fluxnorm_disk, overridden in self.columns... Skipping default assignment.\n",
      "Database column, magnorm_bulge, overridden in self.columns... Skipping default assignment.\n",
      "Database column, magnorm_disk, overridden in self.columns... Skipping default assignment.\n",
      "Database column, magnorm_agn, overridden in self.columns... Skipping default assignment.\n",
      "Database column, cx, overridden in self.columns... Skipping default assignment.\n",
      "Database column, cy, overridden in self.columns... Skipping default assignment.\n",
      "Database column, cz, overridden in self.columns... Skipping default assignment.\n",
      "Can't create default column for geopoint.  There is no mapping for type NULL.  Modify the dbTypeMap, or make a custom columns list.\n",
      "Database column, sedname_agn, overridden in self.columns... Skipping default assignment.\n",
      "Database column, sedname_bulge, overridden in self.columns... Skipping default assignment.\n",
      "Database column, sedname_disk, overridden in self.columns... Skipping default assignment.\n",
      "Database column, varsimobjid, overridden in self.columns... Skipping default assignment.\n",
      "Database column, varParamStr, overridden in self.columns... Skipping default assignment.\n",
      "Database column, type, overridden in self.columns... Skipping default assignment.\n",
      "Database column, mass_bulge, overridden in self.columns... Skipping default assignment.\n",
      "Database column, BulgeMinusDiskLSSTr, overridden in self.columns... Skipping default assignment.\n",
      "Database column, log10BulgeToTotLSSTrFlux, overridden in self.columns... Skipping default assignment.\n",
      "Database column, AbsiMag, overridden in self.columns... Skipping default assignment.\n",
      "Database column, AbsiMag0_1, overridden in self.columns... Skipping default assignment.\n",
      "Database column, z0_1umg, overridden in self.columns... Skipping default assignment.\n",
      "Database column, z0_1gmr, overridden in self.columns... Skipping default assignment.\n",
      "Database column, z0_1rmi, overridden in self.columns... Skipping default assignment.\n",
      "Database column, z0_1imz, overridden in self.columns... Skipping default assignment.\n",
      "Database column, z0_1zmy, overridden in self.columns... Skipping default assignment.\n",
      "Database column, ba_disk, overridden in self.columns... Skipping default assignment.\n",
      "Database column, ba_bulge, overridden in self.columns... Skipping default assignment.\n",
      "Database column, DiskHalfLightRadius, overridden in self.columns... Skipping default assignment.\n",
      "Database column, DiskLSSTu, overridden in self.columns... Skipping default assignment.\n",
      "Database column, DiskLSSTg, overridden in self.columns... Skipping default assignment.\n",
      "Database column, DiskLSSTr, overridden in self.columns... Skipping default assignment.\n",
      "Database column, DiskLSSTi, overridden in self.columns... Skipping default assignment.\n",
      "Database column, DiskLSSTz, overridden in self.columns... Skipping default assignment.\n",
      "Database column, DiskLSSTy, overridden in self.columns... Skipping default assignment.\n",
      "Database column, BulgeLSSTu, overridden in self.columns... Skipping default assignment.\n",
      "Database column, BulgeLSSTg, overridden in self.columns... Skipping default assignment.\n",
      "Database column, BulgeLSSTr, overridden in self.columns... Skipping default assignment.\n",
      "Database column, BulgeLSSTi, overridden in self.columns... Skipping default assignment.\n",
      "Database column, BulgeLSSTz, overridden in self.columns... Skipping default assignment.\n",
      "Database column, BulgeLSSTy, overridden in self.columns... Skipping default assignment.\n",
      "Database column, AGNID, overridden in self.columns... Skipping default assignment.\n",
      "Database column, BulgeHalfLightRadius, overridden in self.columns... Skipping default assignment.\n",
      "Database column, t0_agn, overridden in self.columns... Skipping default assignment.\n",
      "Database column, id, overridden in self.columns... Skipping default assignment.\n",
      "Database column, myid, overridden in self.columns... Skipping default assignment.\n"
     ]
    }
   ],
   "source": [
    "from lsst.sims.catUtils.baseCatalogModels import GalaxyAgnObj\n",
    "from lsst.sims.utils import ObservationMetaData\n",
    "\n",
    "obsMetadata = ObservationMetaData(unrefractedRA=45., unrefractedDec=1.0,\n",
    "                                          boundType='circle', boundLength=0.05,\n",
    "                                          mjd=57086)\n",
    "\n",
    "galaxyAgnDB = GalaxyAgnObj(verbose=True, host='localhost', port='5555')"
   ]
  },
  {
   "cell_type": "markdown",
   "metadata": {},
   "source": [
    "### Changing the default database in sims_catUtils"
   ]
  },
  {
   "cell_type": "markdown",
   "metadata": {},
   "source": [
    "in tickets/SIM-1092\n",
    "edit the file: $SIMS_CATUTILS_DIR/policy/db.paf"
   ]
  },
  {
   "cell_type": "raw",
   "metadata": {},
   "source": [
    "$> cat $SIMS_CATUTILS_DIR/policy/db.paf\n",
    "host: 'fatboy.npl.washington.edu'\n",
    "port: '1433'\n",
    "database: 'LSST'\n",
    "driver: 'mssql+pymssql'"
   ]
  },
  {
   "cell_type": "markdown",
   "metadata": {},
   "source": [
    "after change:"
   ]
  },
  {
   "cell_type": "raw",
   "metadata": {},
   "source": [
    "$> cat $SIMS_CATUTILS_DIR/policy/db.paf\n",
    "host: 'localhost'\n",
    "port: '5555'\n",
    "database: 'LSST'\n",
    "driver: 'mssql+pymssql'"
   ]
  },
  {
   "cell_type": "markdown",
   "metadata": {},
   "source": [
    "Now you can run demo again without specifying the host and port when instantiating.\n"
   ]
  },
  {
   "cell_type": "code",
   "execution_count": 12,
   "metadata": {
    "collapsed": false
   },
   "outputs": [
    {
     "name": "stdout",
     "output_type": "stream",
     "text": [
      "2015-05-04 12:22:32,863 INFO sqlalchemy.engine.base.Engine select @@version\n"
     ]
    },
    {
     "name": "stderr",
     "output_type": "stream",
     "text": [
      "INFO:sqlalchemy.engine.base.Engine:select @@version\n"
     ]
    },
    {
     "name": "stdout",
     "output_type": "stream",
     "text": [
      "2015-05-04 12:22:32,865 INFO sqlalchemy.engine.base.Engine {}\n"
     ]
    },
    {
     "name": "stderr",
     "output_type": "stream",
     "text": [
      "INFO:sqlalchemy.engine.base.Engine:{}\n"
     ]
    },
    {
     "name": "stdout",
     "output_type": "stream",
     "text": [
      "2015-05-04 12:22:32,914 INFO sqlalchemy.engine.base.Engine \n",
      "            SELECT default_schema_name FROM\n",
      "            sys.database_principals\n",
      "            WHERE principal_id=database_principal_id()\n",
      "        \n"
     ]
    },
    {
     "name": "stderr",
     "output_type": "stream",
     "text": [
      "INFO:sqlalchemy.engine.base.Engine:\n",
      "            SELECT default_schema_name FROM\n",
      "            sys.database_principals\n",
      "            WHERE principal_id=database_principal_id()\n",
      "        \n"
     ]
    },
    {
     "name": "stdout",
     "output_type": "stream",
     "text": [
      "2015-05-04 12:22:32,915 INFO sqlalchemy.engine.base.Engine {}\n"
     ]
    },
    {
     "name": "stderr",
     "output_type": "stream",
     "text": [
      "INFO:sqlalchemy.engine.base.Engine:{}\n"
     ]
    },
    {
     "name": "stdout",
     "output_type": "stream",
     "text": [
      "2015-05-04 12:22:33,011 INFO sqlalchemy.engine.base.Engine SELECT CAST('test plain returns' AS VARCHAR(60)) AS anon_1\n"
     ]
    },
    {
     "name": "stderr",
     "output_type": "stream",
     "text": [
      "INFO:sqlalchemy.engine.base.Engine:SELECT CAST('test plain returns' AS VARCHAR(60)) AS anon_1\n"
     ]
    },
    {
     "name": "stdout",
     "output_type": "stream",
     "text": [
      "2015-05-04 12:22:33,013 INFO sqlalchemy.engine.base.Engine {}\n"
     ]
    },
    {
     "name": "stderr",
     "output_type": "stream",
     "text": [
      "INFO:sqlalchemy.engine.base.Engine:{}\n"
     ]
    },
    {
     "name": "stdout",
     "output_type": "stream",
     "text": [
      "2015-05-04 12:22:33,132 INFO sqlalchemy.engine.base.Engine SELECT CAST('test unicode returns' AS NVARCHAR(60)) AS anon_1\n"
     ]
    },
    {
     "name": "stderr",
     "output_type": "stream",
     "text": [
      "INFO:sqlalchemy.engine.base.Engine:SELECT CAST('test unicode returns' AS NVARCHAR(60)) AS anon_1\n"
     ]
    },
    {
     "name": "stdout",
     "output_type": "stream",
     "text": [
      "2015-05-04 12:22:33,133 INFO sqlalchemy.engine.base.Engine {}\n"
     ]
    },
    {
     "name": "stderr",
     "output_type": "stream",
     "text": [
      "INFO:sqlalchemy.engine.base.Engine:{}\n"
     ]
    },
    {
     "name": "stdout",
     "output_type": "stream",
     "text": [
      "2015-05-04 12:22:33,472 INFO sqlalchemy.engine.base.Engine SELECT [COLUMNS_1].[TABLE_SCHEMA], [COLUMNS_1].[TABLE_NAME], [COLUMNS_1].[COLUMN_NAME], [COLUMNS_1].[IS_NULLABLE], [COLUMNS_1].[DATA_TYPE], [COLUMNS_1].[ORDINAL_POSITION], [COLUMNS_1].[CHARACTER_MAXIMUM_LENGTH], [COLUMNS_1].[NUMERIC_PRECISION], [COLUMNS_1].[NUMERIC_SCALE], [COLUMNS_1].[COLUMN_DEFAULT], [COLUMNS_1].[COLLATION_NAME] \n",
      "FROM [INFORMATION_SCHEMA].[COLUMNS] AS [COLUMNS_1] \n",
      "WHERE [COLUMNS_1].[TABLE_NAME] = CAST(%(TABLE_NAME_1)s AS NVARCHAR(max)) AND [COLUMNS_1].[TABLE_SCHEMA] = CAST(%(TABLE_SCHEMA_1)s AS NVARCHAR(max)) ORDER BY [COLUMNS_1].[ORDINAL_POSITION]\n"
     ]
    },
    {
     "name": "stderr",
     "output_type": "stream",
     "text": [
      "INFO:sqlalchemy.engine.base.Engine:SELECT [COLUMNS_1].[TABLE_SCHEMA], [COLUMNS_1].[TABLE_NAME], [COLUMNS_1].[COLUMN_NAME], [COLUMNS_1].[IS_NULLABLE], [COLUMNS_1].[DATA_TYPE], [COLUMNS_1].[ORDINAL_POSITION], [COLUMNS_1].[CHARACTER_MAXIMUM_LENGTH], [COLUMNS_1].[NUMERIC_PRECISION], [COLUMNS_1].[NUMERIC_SCALE], [COLUMNS_1].[COLUMN_DEFAULT], [COLUMNS_1].[COLLATION_NAME] \n",
      "FROM [INFORMATION_SCHEMA].[COLUMNS] AS [COLUMNS_1] \n",
      "WHERE [COLUMNS_1].[TABLE_NAME] = CAST(%(TABLE_NAME_1)s AS NVARCHAR(max)) AND [COLUMNS_1].[TABLE_SCHEMA] = CAST(%(TABLE_SCHEMA_1)s AS NVARCHAR(max)) ORDER BY [COLUMNS_1].[ORDINAL_POSITION]\n"
     ]
    },
    {
     "name": "stdout",
     "output_type": "stream",
     "text": [
      "2015-05-04 12:22:33,473 INFO sqlalchemy.engine.base.Engine {'TABLE_SCHEMA_1': u'dbo', 'TABLE_NAME_1': 'galaxy'}\n"
     ]
    },
    {
     "name": "stderr",
     "output_type": "stream",
     "text": [
      "INFO:sqlalchemy.engine.base.Engine:{'TABLE_SCHEMA_1': u'dbo', 'TABLE_NAME_1': 'galaxy'}\n"
     ]
    },
    {
     "name": "stdout",
     "output_type": "stream",
     "text": [
      "2015-05-04 12:22:33,577 INFO sqlalchemy.engine.base.Engine sp_columns @table_name = 'galaxy', @table_owner = 'dbo'\n"
     ]
    },
    {
     "name": "stderr",
     "output_type": "stream",
     "text": [
      "INFO:sqlalchemy.engine.base.Engine:sp_columns @table_name = 'galaxy', @table_owner = 'dbo'\n"
     ]
    },
    {
     "name": "stdout",
     "output_type": "stream",
     "text": [
      "2015-05-04 12:22:33,578 INFO sqlalchemy.engine.base.Engine {}\n"
     ]
    },
    {
     "name": "stderr",
     "output_type": "stream",
     "text": [
      "INFO:sqlalchemy.engine.base.Engine:{}\n"
     ]
    },
    {
     "name": "stdout",
     "output_type": "stream",
     "text": [
      "2015-05-04 12:22:33,687 INFO sqlalchemy.engine.base.Engine SELECT [C].[COLUMN_NAME], [TABLE_CONSTRAINTS_1].[CONSTRAINT_TYPE], [C].[CONSTRAINT_NAME] \n",
      "FROM [INFORMATION_SCHEMA].[KEY_COLUMN_USAGE] AS [C], [INFORMATION_SCHEMA].[TABLE_CONSTRAINTS] AS [TABLE_CONSTRAINTS_1] \n",
      "WHERE [TABLE_CONSTRAINTS_1].[CONSTRAINT_NAME] = [C].[CONSTRAINT_NAME] AND [TABLE_CONSTRAINTS_1].[TABLE_SCHEMA] = [C].[TABLE_SCHEMA] AND [C].[TABLE_NAME] = CAST(%(TABLE_NAME_1)s AS NVARCHAR(max)) AND [C].[TABLE_SCHEMA] = CAST(%(TABLE_SCHEMA_1)s AS NVARCHAR(max))\n"
     ]
    },
    {
     "name": "stderr",
     "output_type": "stream",
     "text": [
      "INFO:sqlalchemy.engine.base.Engine:SELECT [C].[COLUMN_NAME], [TABLE_CONSTRAINTS_1].[CONSTRAINT_TYPE], [C].[CONSTRAINT_NAME] \n",
      "FROM [INFORMATION_SCHEMA].[KEY_COLUMN_USAGE] AS [C], [INFORMATION_SCHEMA].[TABLE_CONSTRAINTS] AS [TABLE_CONSTRAINTS_1] \n",
      "WHERE [TABLE_CONSTRAINTS_1].[CONSTRAINT_NAME] = [C].[CONSTRAINT_NAME] AND [TABLE_CONSTRAINTS_1].[TABLE_SCHEMA] = [C].[TABLE_SCHEMA] AND [C].[TABLE_NAME] = CAST(%(TABLE_NAME_1)s AS NVARCHAR(max)) AND [C].[TABLE_SCHEMA] = CAST(%(TABLE_SCHEMA_1)s AS NVARCHAR(max))\n"
     ]
    },
    {
     "name": "stdout",
     "output_type": "stream",
     "text": [
      "2015-05-04 12:22:33,691 INFO sqlalchemy.engine.base.Engine {'TABLE_SCHEMA_1': u'dbo', 'TABLE_NAME_1': 'galaxy'}\n"
     ]
    },
    {
     "name": "stderr",
     "output_type": "stream",
     "text": [
      "INFO:sqlalchemy.engine.base.Engine:{'TABLE_SCHEMA_1': u'dbo', 'TABLE_NAME_1': 'galaxy'}\n"
     ]
    },
    {
     "name": "stdout",
     "output_type": "stream",
     "text": [
      "2015-05-04 12:22:33,800 INFO sqlalchemy.engine.base.Engine SELECT [C].[COLUMN_NAME], [R].[TABLE_SCHEMA], [R].[TABLE_NAME], [R].[COLUMN_NAME], [REFERENTIAL_CONSTRAINTS_1].[CONSTRAINT_NAME], [REFERENTIAL_CONSTRAINTS_1].[MATCH_OPTION], [REFERENTIAL_CONSTRAINTS_1].[UPDATE_RULE], [REFERENTIAL_CONSTRAINTS_1].[DELETE_RULE] \n",
      "FROM [INFORMATION_SCHEMA].[KEY_COLUMN_USAGE] AS [C], [INFORMATION_SCHEMA].[KEY_COLUMN_USAGE] AS [R], [INFORMATION_SCHEMA].[REFERENTIAL_CONSTRAINTS] AS [REFERENTIAL_CONSTRAINTS_1] \n",
      "WHERE [C].[TABLE_NAME] = CAST(%(TABLE_NAME_1)s AS NVARCHAR(max)) AND [C].[TABLE_SCHEMA] = CAST(%(TABLE_SCHEMA_1)s AS NVARCHAR(max)) AND [C].[CONSTRAINT_NAME] = [REFERENTIAL_CONSTRAINTS_1].[CONSTRAINT_NAME] AND [R].[CONSTRAINT_NAME] = [REFERENTIAL_CONSTRAINTS_1].[UNIQUE_CONSTRAINT_NAME] AND [C].[ORDINAL_POSITION] = [R].[ORDINAL_POSITION] ORDER BY [REFERENTIAL_CONSTRAINTS_1].[CONSTRAINT_NAME], [R].[ORDINAL_POSITION]\n"
     ]
    },
    {
     "name": "stderr",
     "output_type": "stream",
     "text": [
      "INFO:sqlalchemy.engine.base.Engine:SELECT [C].[COLUMN_NAME], [R].[TABLE_SCHEMA], [R].[TABLE_NAME], [R].[COLUMN_NAME], [REFERENTIAL_CONSTRAINTS_1].[CONSTRAINT_NAME], [REFERENTIAL_CONSTRAINTS_1].[MATCH_OPTION], [REFERENTIAL_CONSTRAINTS_1].[UPDATE_RULE], [REFERENTIAL_CONSTRAINTS_1].[DELETE_RULE] \n",
      "FROM [INFORMATION_SCHEMA].[KEY_COLUMN_USAGE] AS [C], [INFORMATION_SCHEMA].[KEY_COLUMN_USAGE] AS [R], [INFORMATION_SCHEMA].[REFERENTIAL_CONSTRAINTS] AS [REFERENTIAL_CONSTRAINTS_1] \n",
      "WHERE [C].[TABLE_NAME] = CAST(%(TABLE_NAME_1)s AS NVARCHAR(max)) AND [C].[TABLE_SCHEMA] = CAST(%(TABLE_SCHEMA_1)s AS NVARCHAR(max)) AND [C].[CONSTRAINT_NAME] = [REFERENTIAL_CONSTRAINTS_1].[CONSTRAINT_NAME] AND [R].[CONSTRAINT_NAME] = [REFERENTIAL_CONSTRAINTS_1].[UNIQUE_CONSTRAINT_NAME] AND [C].[ORDINAL_POSITION] = [R].[ORDINAL_POSITION] ORDER BY [REFERENTIAL_CONSTRAINTS_1].[CONSTRAINT_NAME], [R].[ORDINAL_POSITION]\n"
     ]
    },
    {
     "name": "stdout",
     "output_type": "stream",
     "text": [
      "2015-05-04 12:22:33,801 INFO sqlalchemy.engine.base.Engine {'TABLE_SCHEMA_1': u'dbo', 'TABLE_NAME_1': 'galaxy'}\n"
     ]
    },
    {
     "name": "stderr",
     "output_type": "stream",
     "text": [
      "INFO:sqlalchemy.engine.base.Engine:{'TABLE_SCHEMA_1': u'dbo', 'TABLE_NAME_1': 'galaxy'}\n"
     ]
    },
    {
     "name": "stdout",
     "output_type": "stream",
     "text": [
      "2015-05-04 12:22:33,878 INFO sqlalchemy.engine.base.Engine select ind.index_id, ind.is_unique, ind.name from sys.indexes as ind join sys.tables as tab on ind.object_id=tab.object_id join sys.schemas as sch on sch.schema_id=tab.schema_id where tab.name = %(tabname)s and sch.name=%(schname)s and ind.is_primary_key=0\n"
     ]
    },
    {
     "name": "stderr",
     "output_type": "stream",
     "text": [
      "INFO:sqlalchemy.engine.base.Engine:select ind.index_id, ind.is_unique, ind.name from sys.indexes as ind join sys.tables as tab on ind.object_id=tab.object_id join sys.schemas as sch on sch.schema_id=tab.schema_id where tab.name = %(tabname)s and sch.name=%(schname)s and ind.is_primary_key=0\n"
     ]
    },
    {
     "name": "stdout",
     "output_type": "stream",
     "text": [
      "2015-05-04 12:22:33,879 INFO sqlalchemy.engine.base.Engine {'tabname': 'galaxy', 'schname': u'dbo'}\n"
     ]
    },
    {
     "name": "stderr",
     "output_type": "stream",
     "text": [
      "INFO:sqlalchemy.engine.base.Engine:{'tabname': 'galaxy', 'schname': u'dbo'}\n"
     ]
    },
    {
     "name": "stdout",
     "output_type": "stream",
     "text": [
      "2015-05-04 12:22:33,938 INFO sqlalchemy.engine.base.Engine select ind_col.index_id, ind_col.object_id, col.name from sys.columns as col join sys.tables as tab on tab.object_id=col.object_id join sys.index_columns as ind_col on (ind_col.column_id=col.column_id and ind_col.object_id=tab.object_id) join sys.schemas as sch on sch.schema_id=tab.schema_id where tab.name=%(tabname)s and sch.name=%(schname)s\n"
     ]
    },
    {
     "name": "stderr",
     "output_type": "stream",
     "text": [
      "INFO:sqlalchemy.engine.base.Engine:select ind_col.index_id, ind_col.object_id, col.name from sys.columns as col join sys.tables as tab on tab.object_id=col.object_id join sys.index_columns as ind_col on (ind_col.column_id=col.column_id and ind_col.object_id=tab.object_id) join sys.schemas as sch on sch.schema_id=tab.schema_id where tab.name=%(tabname)s and sch.name=%(schname)s\n"
     ]
    },
    {
     "name": "stdout",
     "output_type": "stream",
     "text": [
      "2015-05-04 12:22:33,939 INFO sqlalchemy.engine.base.Engine {'tabname': 'galaxy', 'schname': u'dbo'}\n"
     ]
    },
    {
     "name": "stderr",
     "output_type": "stream",
     "text": [
      "INFO:sqlalchemy.engine.base.Engine:{'tabname': 'galaxy', 'schname': u'dbo'}\n",
      "Database column, htmid, overridden in self.columns... Skipping default assignment.\n",
      "Database column, galid, overridden in self.columns... Skipping default assignment.\n",
      "Database column, ra, overridden in self.columns... Skipping default assignment.\n",
      "Database column, dec, overridden in self.columns... Skipping default assignment.\n",
      "Database column, redshift, overridden in self.columns... Skipping default assignment.\n",
      "Database column, rad_vel, overridden in self.columns... Skipping default assignment.\n",
      "Database column, u_ab, overridden in self.columns... Skipping default assignment.\n",
      "Database column, g_ab, overridden in self.columns... Skipping default assignment.\n",
      "Database column, r_ab, overridden in self.columns... Skipping default assignment.\n",
      "Database column, i_ab, overridden in self.columns... Skipping default assignment.\n",
      "Database column, z_ab, overridden in self.columns... Skipping default assignment.\n",
      "Database column, y_ab, overridden in self.columns... Skipping default assignment.\n",
      "Database column, sedid_bulge, overridden in self.columns... Skipping default assignment.\n",
      "Database column, sedid_disk, overridden in self.columns... Skipping default assignment.\n",
      "Database column, sedid_agn, overridden in self.columns... Skipping default assignment.\n",
      "Database column, av_b, overridden in self.columns... Skipping default assignment.\n",
      "Database column, rv_b, overridden in self.columns... Skipping default assignment.\n",
      "Database column, ext_model_b, overridden in self.columns... Skipping default assignment.\n",
      "Database column, av_d, overridden in self.columns... Skipping default assignment.\n",
      "Database column, rv_d, overridden in self.columns... Skipping default assignment.\n",
      "Database column, ext_model_d, overridden in self.columns... Skipping default assignment.\n",
      "Database column, glon, overridden in self.columns... Skipping default assignment.\n",
      "Database column, glat, overridden in self.columns... Skipping default assignment.\n",
      "Database column, pa_bulge, overridden in self.columns... Skipping default assignment.\n",
      "Database column, pa_disk, overridden in self.columns... Skipping default assignment.\n",
      "Database column, inc_bulge_deg, overridden in self.columns... Skipping default assignment.\n",
      "Database column, inc_disk_deg, overridden in self.columns... Skipping default assignment.\n",
      "Database column, a_b, overridden in self.columns... Skipping default assignment.\n",
      "Database column, b_b, overridden in self.columns... Skipping default assignment.\n",
      "Database column, bulge_n, overridden in self.columns... Skipping default assignment.\n",
      "Database column, bra, overridden in self.columns... Skipping default assignment.\n",
      "Database column, bdec, overridden in self.columns... Skipping default assignment.\n",
      "Database column, a_d, overridden in self.columns... Skipping default assignment.\n",
      "Database column, b_d, overridden in self.columns... Skipping default assignment.\n",
      "Database column, disk_n, overridden in self.columns... Skipping default assignment.\n",
      "Database column, dra, overridden in self.columns... Skipping default assignment.\n",
      "Database column, ddec, overridden in self.columns... Skipping default assignment.\n",
      "Database column, agnra, overridden in self.columns... Skipping default assignment.\n",
      "Database column, agndec, overridden in self.columns... Skipping default assignment.\n",
      "Database column, versionid, overridden in self.columns... Skipping default assignment.\n",
      "Database column, fluxnorm_bulge, overridden in self.columns... Skipping default assignment.\n",
      "Database column, fluxnorm_agn, overridden in self.columns... Skipping default assignment.\n",
      "Database column, absmag_r_total, overridden in self.columns... Skipping default assignment.\n",
      "Database column, gal_type, overridden in self.columns... Skipping default assignment.\n",
      "Database column, mass_stellar, overridden in self.columns... Skipping default assignment.\n",
      "Database column, mass_gas, overridden in self.columns... Skipping default assignment.\n",
      "Database column, mass_halo, overridden in self.columns... Skipping default assignment.\n",
      "Database column, ug_total_rest, overridden in self.columns... Skipping default assignment.\n",
      "Database column, gr_total_rest, overridden in self.columns... Skipping default assignment.\n",
      "Database column, ri_total_rest, overridden in self.columns... Skipping default assignment.\n",
      "Database column, iz_total_rest, overridden in self.columns... Skipping default assignment.\n",
      "Database column, zy_total_rest, overridden in self.columns... Skipping default assignment.\n",
      "Database column, isagn, overridden in self.columns... Skipping default assignment.\n",
      "Database column, agn_tau, overridden in self.columns... Skipping default assignment.\n",
      "Database column, agn_sfu, overridden in self.columns... Skipping default assignment.\n",
      "Database column, agn_sfg, overridden in self.columns... Skipping default assignment.\n",
      "Database column, agn_sfr, overridden in self.columns... Skipping default assignment.\n",
      "Database column, agn_sfi, overridden in self.columns... Skipping default assignment.\n",
      "Database column, agn_sfz, overridden in self.columns... Skipping default assignment.\n",
      "Database column, agn_sfy, overridden in self.columns... Skipping default assignment.\n",
      "Database column, fluxnorm_disk, overridden in self.columns... Skipping default assignment.\n",
      "Database column, magnorm_bulge, overridden in self.columns... Skipping default assignment.\n",
      "Database column, magnorm_disk, overridden in self.columns... Skipping default assignment.\n",
      "Database column, magnorm_agn, overridden in self.columns... Skipping default assignment.\n",
      "Database column, cx, overridden in self.columns... Skipping default assignment.\n",
      "Database column, cy, overridden in self.columns... Skipping default assignment.\n",
      "Database column, cz, overridden in self.columns... Skipping default assignment.\n",
      "Can't create default column for geopoint.  There is no mapping for type NULL.  Modify the dbTypeMap, or make a custom columns list.\n",
      "Database column, sedname_agn, overridden in self.columns... Skipping default assignment.\n",
      "Database column, sedname_bulge, overridden in self.columns... Skipping default assignment.\n",
      "Database column, sedname_disk, overridden in self.columns... Skipping default assignment.\n",
      "Database column, varsimobjid, overridden in self.columns... Skipping default assignment.\n",
      "Database column, varParamStr, overridden in self.columns... Skipping default assignment.\n",
      "Database column, type, overridden in self.columns... Skipping default assignment.\n",
      "Database column, mass_bulge, overridden in self.columns... Skipping default assignment.\n",
      "Database column, BulgeMinusDiskLSSTr, overridden in self.columns... Skipping default assignment.\n",
      "Database column, log10BulgeToTotLSSTrFlux, overridden in self.columns... Skipping default assignment.\n",
      "Database column, AbsiMag, overridden in self.columns... Skipping default assignment.\n",
      "Database column, AbsiMag0_1, overridden in self.columns... Skipping default assignment.\n",
      "Database column, z0_1umg, overridden in self.columns... Skipping default assignment.\n",
      "Database column, z0_1gmr, overridden in self.columns... Skipping default assignment.\n",
      "Database column, z0_1rmi, overridden in self.columns... Skipping default assignment.\n",
      "Database column, z0_1imz, overridden in self.columns... Skipping default assignment.\n",
      "Database column, z0_1zmy, overridden in self.columns... Skipping default assignment.\n",
      "Database column, ba_disk, overridden in self.columns... Skipping default assignment.\n",
      "Database column, ba_bulge, overridden in self.columns... Skipping default assignment.\n",
      "Database column, DiskHalfLightRadius, overridden in self.columns... Skipping default assignment.\n",
      "Database column, DiskLSSTu, overridden in self.columns... Skipping default assignment.\n",
      "Database column, DiskLSSTg, overridden in self.columns... Skipping default assignment.\n",
      "Database column, DiskLSSTr, overridden in self.columns... Skipping default assignment.\n",
      "Database column, DiskLSSTi, overridden in self.columns... Skipping default assignment.\n",
      "Database column, DiskLSSTz, overridden in self.columns... Skipping default assignment.\n",
      "Database column, DiskLSSTy, overridden in self.columns... Skipping default assignment.\n",
      "Database column, BulgeLSSTu, overridden in self.columns... Skipping default assignment.\n",
      "Database column, BulgeLSSTg, overridden in self.columns... Skipping default assignment.\n",
      "Database column, BulgeLSSTr, overridden in self.columns... Skipping default assignment.\n",
      "Database column, BulgeLSSTi, overridden in self.columns... Skipping default assignment.\n",
      "Database column, BulgeLSSTz, overridden in self.columns... Skipping default assignment.\n",
      "Database column, BulgeLSSTy, overridden in self.columns... Skipping default assignment.\n",
      "Database column, AGNID, overridden in self.columns... Skipping default assignment.\n",
      "Database column, BulgeHalfLightRadius, overridden in self.columns... Skipping default assignment.\n",
      "Database column, t0_agn, overridden in self.columns... Skipping default assignment.\n",
      "Database column, id, overridden in self.columns... Skipping default assignment.\n",
      "Database column, myid, overridden in self.columns... Skipping default assignment.\n"
     ]
    }
   ],
   "source": [
    "galaxyAgnDB = GalaxyAgnObj(verbose=True)"
   ]
  },
  {
   "cell_type": "markdown",
   "metadata": {},
   "source": [
    "## What if I don't have a UW NetId?"
   ]
  },
  {
   "cell_type": "markdown",
   "metadata": {},
   "source": [
    "We are now maintaining a shared UW NETID \"**simsuser**\" for our collaborators port forward using gateway.astro.washington.edu. The preferred protocol now to send us your public ssh key. \n",
    "\n",
    "Once we add it, You can now access our database from *anywhere* like:"
   ]
  },
  {
   "cell_type": "raw",
   "metadata": {},
   "source": [
    "ssh -L 5555:fatboy.npl.washington.edu:1433 simsuser@gateway.astro.washington.edu"
   ]
  },
  {
   "cell_type": "markdown",
   "metadata": {},
   "source": [
    "# Going Forward"
   ]
  },
  {
   "cell_type": "markdown",
   "metadata": {},
   "source": [
    "* Simon had the interesting idea of maintaining a lsst github repo and using a deployment service to update the ssh keys in simsusers home directory. People already have to ask Frossie/Michael for push permissions to our lsst repos. \n",
    "\n",
    "\n",
    "\n",
    "* We can initialize the ssh tunnel through python in sims_catUtils.\n",
    "    - add new third party package paramiko?\n",
    "    - write our own utility?\n"
   ]
  },
  {
   "cell_type": "code",
   "execution_count": null,
   "metadata": {
    "collapsed": false
   },
   "outputs": [],
   "source": []
  }
 ],
 "metadata": {
  "kernelspec": {
   "display_name": "Python 2",
   "language": "python",
   "name": "python2"
  },
  "language_info": {
   "codemirror_mode": {
    "name": "ipython",
    "version": 2
   },
   "file_extension": ".py",
   "mimetype": "text/x-python",
   "name": "python",
   "nbconvert_exporter": "python",
   "pygments_lexer": "ipython2",
   "version": "2.7.10"
  }
 },
 "nbformat": 4,
 "nbformat_minor": 0
}
