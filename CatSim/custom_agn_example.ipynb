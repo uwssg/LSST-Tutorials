{
 "cells": [
  {
   "cell_type": "markdown",
   "metadata": {},
   "source": [
    "<b>This notebook was written in August 2016 to demonstrate how to incorporate custom variability models into the CatSim treatment of AGNs (or, really, any variable sources).  It assumes version 2.3.0 of the `lsst_sims` stack.</b>"
   ]
  },
  {
   "cell_type": "markdown",
   "metadata": {},
   "source": [
    "First, open an ssh tunnel to the CatSim database hosted by the University of Washington. Open a terminal window and type\n",
    "\n",
    "`ssh -L 51433:fatboy.phys.washington.edu:1433 simsuser@gateway.astro.washington.edu`\n",
    "\n",
    "There is some configuration that you will have to do to make sure this works. Instructions are here:\n",
    "\n",
    "https://confluence.lsstcorp.org/display/SIM/Accessing+the+UW+CATSIM+Database\n"
   ]
  },
  {
   "cell_type": "markdown",
   "metadata": {},
   "source": [
    "Now, we need to download a database of OpSim-simulated pointings from\n",
    "\n",
    "https://www.lsst.org/scientists/simulations/opsim/opsim-surveys-data-directory\n",
    "\n",
    "and specify its location with the opsimdb variable\n"
   ]
  },
  {
   "cell_type": "code",
   "execution_count": null,
   "metadata": {
    "collapsed": true
   },
   "outputs": [],
   "source": [
    "import numpy as np\n",
    "import os"
   ]
  },
  {
   "cell_type": "code",
   "execution_count": null,
   "metadata": {
    "collapsed": true
   },
   "outputs": [],
   "source": [
    "opsimdb = os.path.join(\"/Users\",\"danielsf\",\"physics\")\n",
    "opsimdb = os.path.join(opsimdb, \"lsst_150412\", \"Development\", \"garage\")\n",
    "opsimdb = os.path.join(opsimdb, \"OpSimData\", \"kraken_1042_sqlite.db\")"
   ]
  },
  {
   "cell_type": "markdown",
   "metadata": {},
   "source": [
    "Light curves are generated using a class called `LightCurveGenerator`.  Sub-classes of `LightCurveGenerator` are already implemented for variable stars, type Ia supernovae, and AGNs.  Below we show how to use the `AgnLightCurveGenerator` to generate light curves using the default CatSim AGN variability model (a damped random walk).\n",
    "\n",
    "<b>Note:</b> Throughout this notebook, we will be using the `GalaxyObj` class to establish our connection to fatboy (the UW-hosted CatSim database).  `GalaxyObj` only contains objects in the -2.5<RA<2.5, -2.25<Dec<2.25 range.  To get objects everywhere on the sky, we should be using `GalaxyTileObj`, which tiles the contents of `GalaxyObj` all over the sky. Unfortunately, this tiling makes it impossible for us to put a limit on the number of light curves returned from `GalaxyTileObj`, which is why we use `GalaxyObj`.  In the next `lsst_sims` release, this bug will be fixed, and we will be able to use `GalaxyTileObj` and only ask for a limited number of light curves.\n",
    "\n",
    "The cell below will take about 3 minutes to run, since it has to walk through the damped random walk from `t0` to the end of your light curve."
   ]
  },
  {
   "cell_type": "code",
   "execution_count": null,
   "metadata": {
    "collapsed": false
   },
   "outputs": [],
   "source": [
    "from lsst.sims.catUtils.utils import AgnLightCurveGenerator\n",
    "from lsst.sims.catUtils.baseCatalogModels import GalaxyObj\n",
    "import time\n",
    "\n",
    "agn_db = GalaxyObj()\n",
    "\n",
    "# we must tell the light curve generator about both the database of sources (fatboy)\n",
    "# and the database of opsim pointings (opsimdb)\n",
    "lc_gen = AgnLightCurveGenerator(agn_db, opsimdb)\n",
    "\n",
    "ptngs = lc_gen.get_pointings((-2.5, 2.5), (-2.25, 2.25))\n",
    "\n",
    "lc_dict, truth_dict = lc_gen.light_curves_from_pointings(ptngs, lc_per_field=10)"
   ]
  },
  {
   "cell_type": "markdown",
   "metadata": {},
   "source": [
    "`lc_dict` is now a dict of light curves keyed on each AGNs `uniqueId` (a long integer uniquely identifying each object in CatSim).  `truth_dict` is also keyed on `uniqueId` and contains information characterizing the true variability parameters of each AGN (in this case, this is a json representation of a dict of parameters used by CatSim to create AGN variability; we will show you below how to customize `truth_dict` information).\n",
    "\n",
    "Let's plot one of the light curves."
   ]
  },
  {
   "cell_type": "code",
   "execution_count": null,
   "metadata": {
    "collapsed": false
   },
   "outputs": [],
   "source": [
    "%matplotlib inline\n",
    "import matplotlib.pyplot as plt\n",
    "\n",
    "obj_name = lc_dict.keys()[5]\n",
    "lc = lc_dict[obj_name]\n",
    "\n",
    "fig, ax = plt.subplots()\n",
    "\n",
    "ax.errorbar(lc['r']['mjd'], lc['r']['mag'], lc['r']['error'],\n",
    "            fmt='', linestyle='None')\n",
    "ax.scatter(lc['r']['mjd'], lc['r']['mag'], s=5, color='r')\n",
    "ax.set(xlabel='MJD', ylabel='r-band magnitude')"
   ]
  },
  {
   "cell_type": "markdown",
   "metadata": {},
   "source": [
    "## Creating our own `LightCurveGenerator`\n",
    "\n",
    "The `LightCurveGenerator` uses a CatSim `InstanceCatalog` to calculate the magnitudes and magnitude uncertainties of objects.  It expects to find these values in columns labeled `ligthCurveMag` and `sigma_lightCurveMag`.  Suppose we wanted to generate light curves of an unvarying AGN, rather than an AGN with the full CatSim variability model implemented.  To do that, we would just define an `InstanceCatalog` class which assigned the AGN's mean magnitude to `lightCurveMag` and the associated uncertainty to `sigma_lightCurveMag`.  We would then assign that class as our `LightCurveGenerator`'s `_lightCurveCatalogClass`.  See below:\n",
    "\n",
    "<b>Note:</b> CatSim stores all of the new `InstanceCatalog` daughter classes defined in a registry. This means that re-running this or any cell that defines an `InstanceCatalog` daughter class will cause an exception to be thrown.  You will have to re-start the kernel if you wish to re-run the cell below."
   ]
  },
  {
   "cell_type": "code",
   "execution_count": null,
   "metadata": {
    "collapsed": false
   },
   "outputs": [],
   "source": [
    "from lsst.sims.catalogs.decorators import compound\n",
    "from lsst.sims.catUtils.mixins import PhotometryGalaxies\n",
    "from lsst.sims.catUtils.utils.LightCurveGenerator import _baseLightCurveCatalog\n",
    "\n",
    "# _lightCurveCatalogClasses must inherit from _baseLightCurveCatalog.\n",
    "# _baseLightCurveCatalog defines some functionality that the LightCurveGenerator expects\n",
    "class _agnMeanMagCatalog(_baseLightCurveCatalog, PhotometryGalaxies):\n",
    "    \n",
    "    @compound(\"lightCurveMag\", \"sigma_lightCurveMag\")\n",
    "    def get_lightCurvePhotometry(self):\n",
    "        \"\"\"\n",
    "        This method calculates the lightCurveMag and sigma_lightCurveMag values expected\n",
    "        by the LightCurveGenerator.  [u,g,r,i,z,y]Agn and sigma_[u,g,r,i,z,y]Agn are\n",
    "        calculated by methods defined in the PhotometryGalaxies mixin imported above.\n",
    "        \"\"\"\n",
    "        return np.array([self.column_by_name(\"%sAgn\" % self.obs_metadata.bandpass),\n",
    "                         self.column_by_name(\"sigma_%sAgn\" % self.obs_metadata.bandpass)])\n",
    "        "
   ]
  },
  {
   "cell_type": "code",
   "execution_count": null,
   "metadata": {
    "collapsed": false
   },
   "outputs": [],
   "source": [
    "lc_gen._lightCurveCatalogClass= _agnMeanMagCatalog\n",
    "\n",
    "# this is just a constraint on our SQL query to make sure we do not get\n",
    "# any objects that lack an AGN component\n",
    "lc_gen._constraint = 'sedname_agn IS NOT NULL'\n",
    "\n",
    "ra_bound = (-2.5, 2.5)\n",
    "dec_bound = (-2.25, 2.25)\n",
    "pointings = lc_gen.get_pointings(ra_bound, dec_bound, bandpass='r')\n",
    "\n",
    "lc_dict, truth_dict = lc_gen.light_curves_from_pointings(pointings,\n",
    "                                                         lc_per_field=10)\n"
   ]
  },
  {
   "cell_type": "markdown",
   "metadata": {},
   "source": [
    "If we plot one of the light curves from this simulation, we see that it is completely flat, since we only returned the mean magnitude of the AGN."
   ]
  },
  {
   "cell_type": "code",
   "execution_count": null,
   "metadata": {
    "collapsed": false
   },
   "outputs": [],
   "source": [
    "obj_name = lc_dict.keys()[5]\n",
    "lc = lc_dict[obj_name]\n",
    "\n",
    "fig, ax = plt.subplots()\n",
    "\n",
    "ax.errorbar(lc['r']['mjd'], lc['r']['mag'], lc['r']['error'],\n",
    "            fmt='', linestyle='None')\n",
    "ax.scatter(lc['r']['mjd'], lc['r']['mag'], s=5, color='r')\n",
    "ax.set(xlabel='MJD', ylabel='r-band magnitude')"
   ]
  },
  {
   "cell_type": "markdown",
   "metadata": {},
   "source": [
    "Now let's introduce variability into our light curves.  In the `_lightCurveCatalogClass` below, we define the magnitudes `[u,g,r,i,z,y]Agn_rando` which are the mean AGN magnitudes plus random variation.  The getter method for `lightCurveMag` returns whichever of these random magnitudes is appropriate, based on the bandpass being observed at the time (encoded in the catalog's `self.obs_metadata`).\n",
    "\n",
    "The method to calculate the uncertainty in the random magnitudes follows a simple prescription set-up in the CatSim framework."
   ]
  },
  {
   "cell_type": "code",
   "execution_count": null,
   "metadata": {
    "collapsed": false
   },
   "outputs": [],
   "source": [
    "class _agnRandomMagCatalog(_baseLightCurveCatalog, PhotometryGalaxies):\n",
    "    \n",
    "    rng = np.random.RandomState(119)\n",
    "    \n",
    "    @compound('uAgn_rando', 'gAgn_rando', 'rAgn_rando',\n",
    "              'iAgn_rando', 'zAgn_rando', 'yAgn_rando')\n",
    "    def get_randomMagnitudes(self):\n",
    "        \"\"\"\n",
    "        Calculate a varying magnitude that is the mean magnitude plus random noise.\n",
    "        \"\"\"\n",
    "        n_mags = len(self.column_by_name('uAgn'))\n",
    "        return np.array([self.column_by_name('uAgn') + self.rng.random_sample(n_mags)*10.0,\n",
    "                         self.column_by_name('gAgn') + self.rng.random_sample(n_mags)*10.0,\n",
    "                         self.column_by_name('rAgn') + self.rng.random_sample(n_mags)*10.0,\n",
    "                         self.column_by_name('iAgn') + self.rng.random_sample(n_mags)*10.0,\n",
    "                         self.column_by_name('zAgn') + self.rng.random_sample(n_mags)*10.0,\n",
    "                         self.column_by_name('yAgn') + self.rng.random_sample(n_mags)*10.0])\n",
    "\n",
    "    @compound('sigma_uAgn_rando', 'sigma_gAgn_rando', 'sigma_rAgn_rando',\n",
    "              'sigma_iAgn_rando', 'sigma_zAgn_ranod', 'sigma_yAgn_rando')\n",
    "    def get_rando_uncertainties(self):\n",
    "        \"\"\"\n",
    "        Calculate the uncertainty in the random magnitudes.\n",
    "        \n",
    "        The method _magnitudeUncertaintyGetter is defined in the PhotometryGalaxies mixin.\n",
    "        The arguments for that method are:\n",
    "        \n",
    "        list of the magnitudes for which uncertainties are to be calculated\n",
    "        list of the bandpass names associated with these magnitudes\n",
    "            (so that m5 in that bandpass can be looked up from self.obs_metadata)\n",
    "        name of the attribute containing the bandpasses\n",
    "            (self.lsstBandpassDict is set by the method that calculates [u,g,r,i,z,y]Agn)\n",
    "        \"\"\"\n",
    "        return self._magnitudeUncertaintyGetter(['uAgn_rando', 'gAgn_rando', 'rAgn_rando',\n",
    "                                                 'iAgn_rando', 'zAgn_rando', 'yAgn_rando'],\n",
    "                                                ['u', 'g', 'r', 'i', 'z', 'y'],\n",
    "                                                'lsstBandpassDict')\n",
    "    \n",
    "    @compound(\"lightCurveMag\", \"sigma_lightCurveMag\")\n",
    "    def get_lightCurvePhotometry(self):\n",
    "        return np.array([self.column_by_name(\"%sAgn_rando\" % self.obs_metadata.bandpass),\n",
    "                         self.column_by_name(\"sigma_%sAgn_rando\" % self.obs_metadata.bandpass)])\n",
    "        \n",
    "    "
   ]
  },
  {
   "cell_type": "code",
   "execution_count": null,
   "metadata": {
    "collapsed": false
   },
   "outputs": [],
   "source": [
    "from lsst.sims.catUtils.baseCatalogModels import GalaxyObj\n",
    "\n",
    "lc_gen._lightCurveCatalogClass = _agnRandomMagCatalog\n",
    "\n",
    "ra_bound = (-2.5, 2.5)\n",
    "dec_bound = (-2.25, 2.25)\n",
    "pointings = lc_gen.get_pointings(ra_bound, dec_bound, bandpass='r')\n",
    "\n",
    "lc_dict_rando, truth_dict = lc_gen.light_curves_from_pointings(pointings,\n",
    "                                                               lc_per_field=10)"
   ]
  },
  {
   "cell_type": "markdown",
   "metadata": {},
   "source": [
    "Plotting one of these light curves shows random variation."
   ]
  },
  {
   "cell_type": "code",
   "execution_count": null,
   "metadata": {
    "collapsed": false
   },
   "outputs": [],
   "source": [
    "obj_name = lc_dict_rando.keys()[5]\n",
    "lc = lc_dict_rando[obj_name]\n",
    "\n",
    "fig, ax = plt.subplots()\n",
    "\n",
    "ax.errorbar(lc['r']['mjd'], lc['r']['mag'], lc['r']['error'],\n",
    "            fmt='', linestyle='None')\n",
    "ax.scatter(lc['r']['mjd'], lc['r']['mag'], s=5, color='r')\n",
    "ax.set(xlabel='MJD', ylabel='r-band magnitude')"
   ]
  },
  {
   "cell_type": "markdown",
   "metadata": {},
   "source": [
    "In the previous example, we used the catalog attribute `self.lsstBandpassDict` when calling `_magnitudeUncertaintyGetter`.  Ordinarily, `self.lsstBandpassDict` is set by the method which calculates the mean AGN magnitudes (the mean AGN magnitudes are calculated by loading in model SEDs and integrating them over the LSST bandpasses).  Below, we alter how the mean LSST magnitudes are calculated so that we can show how `self.lsstBandpassDict` might be set by the user.  Note that we have renamed the mean magnitudes `[u,g,r,i,z,y]Agn_x`.  This is because `[u,g,r,i,z,y]Agn` are already calculated by a method defined in the `PhotometryGalaxies` mixin, and we do not want to confuse CatSim."
   ]
  },
  {
   "cell_type": "code",
   "execution_count": null,
   "metadata": {
    "collapsed": false
   },
   "outputs": [],
   "source": [
    "from lsst.sims.photUtils import BandpassDict\n",
    "\n",
    "class _alternateAgnCatalog(_baseLightCurveCatalog, PhotometryGalaxies):\n",
    "\n",
    "    @compound('uAgn_x', 'gAgn_x', 'rAgn_x', 'iAgn_x', 'zAgn_x', 'yAgn_x')\n",
    "    def get_magnitudes(self):\n",
    "        \"\"\"\n",
    "        Add a component to the mean magnitude that grows linearly with time\n",
    "        (which probably means it is not a mean magnitude any more...)\n",
    "        \"\"\"\n",
    "        \n",
    "        if not hasattr(self, 'lsstBandpassDict'):\n",
    "            self.lsstBandpassDict = BandpassDict.loadTotalBandpassesFromFiles()\n",
    "        \n",
    "        delta = 5.0 * (self.obs_metadata.mjd.TAI-59580.0)/3650.0\n",
    "\n",
    "        # self._magnitudeGetter is defined in the PhotometryGalaxies mixin.\n",
    "        # It's arguments are: a str indicating which galaxy component is being\n",
    "        # simulated ('agn', 'disk', or 'bulge'), the BandpassDict containing\n",
    "        # the bandpasses of the survey, a list of the columns defined by this\n",
    "        # current getter method\n",
    "        return self._magnitudeGetter('agn', self.lsstBandpassDict,\n",
    "                                     self.get_magnitudes._colnames) + delta\n",
    "    \n",
    "    @compound('sigma_uAgn_x', 'sigma_gAgn_x', 'sigma_rAgn_x',\n",
    "              'sigma_iAgn_x', 'sigma_zAgn_x', 'sigma_yAgn_x')\n",
    "    def get_uncertainties(self):\n",
    "        return self._magnitudeUncertaintyGetter(['uAgn_x', 'gAgn_x', 'rAgn_x',\n",
    "                                                 'iAgn_x', 'zAgn_x', 'yAgn_x'],\n",
    "                                                ['u', 'g', 'r', 'i', 'z', 'y'],\n",
    "                                                'lsstBandpassDict')\n",
    "    \n",
    "    @compound(\"lightCurveMag\", \"sigma_lightCurveMag\")\n",
    "    def get_lightCurvePhotometry(self):\n",
    "        return np.array([self.column_by_name(\"%sAgn_x\" % self.obs_metadata.bandpass),\n",
    "                         self.column_by_name(\"sigma_%sAgn_x\" % self.obs_metadata.bandpass)])"
   ]
  },
  {
   "cell_type": "code",
   "execution_count": null,
   "metadata": {
    "collapsed": false
   },
   "outputs": [],
   "source": [
    "lc_gen._lightCurveCatalogClass = _alternateAgnCatalog\n",
    "\n",
    "ra_bound = (-2.5, 2.5)\n",
    "dec_bound = (-2.25, 2.25)\n",
    "pointings = lc_gen.get_pointings(ra_bound, dec_bound, bandpass='r')\n",
    "\n",
    "lc_dict_alt, truth_dict = lc_gen.light_curves_from_pointings(pointings,\n",
    "                                                               lc_per_field=10)"
   ]
  },
  {
   "cell_type": "markdown",
   "metadata": {},
   "source": [
    "Plotting one of these light curves shows an unintersting linear rise in magnitude."
   ]
  },
  {
   "cell_type": "code",
   "execution_count": null,
   "metadata": {
    "collapsed": false
   },
   "outputs": [],
   "source": [
    "obj_name = lc_dict_alt.keys()[5]\n",
    "lc = lc_dict_alt[obj_name]\n",
    "\n",
    "fig, ax = plt.subplots()\n",
    "\n",
    "ax.errorbar(lc['r']['mjd'], lc['r']['mag'], lc['r']['error'],\n",
    "            fmt='', linestyle='None')\n",
    "ax.scatter(lc['r']['mjd'], lc['r']['mag'], s=5, color='r')\n",
    "ax.set(xlabel='MJD', ylabel='r-band magnitude')"
   ]
  },
  {
   "cell_type": "markdown",
   "metadata": {},
   "source": [
    "Up until now we have been ignoring the existence of the `truth_dict`, which contains the reference information about the specific variability of each object in the `_lightCurveCatalogClass`'s catalog.  Just as the magnitude and uncertainty in our light curves are generated by columns known as `lightCurveMag` and `sigma_lightCurveMag`, the `truth_dict` is constructed from a column called `truthInfo`.  To calculate it, you must define a method `get_truthInfo()` in your `_lightCurveCatalogClass`.  The method should return a numpy array in which each element is the truth information for the corresponding AGN.  Below, we construct truth info that consists of a period, phase, and amplitude for a sinusoidal light curve component.  We add it to the AGN magnitudes calculated by `get_magnitudes()`."
   ]
  },
  {
   "cell_type": "code",
   "execution_count": null,
   "metadata": {
    "collapsed": false
   },
   "outputs": [],
   "source": [
    "class _variableAgnCatalog(_baseLightCurveCatalog, PhotometryGalaxies):\n",
    "\n",
    "    rng = np.random.RandomState(88)\n",
    "    \n",
    "    def get_truthInfo(self):\n",
    "        if not hasattr(self, 'truth_cache'):\n",
    "            self.truth_cache = {}\n",
    "            \n",
    "        # get the uniqueIds of all of the AGn\n",
    "        # (mostly so you know how many of them there are)\n",
    "        id_val = self.column_by_name('uniqueId')\n",
    "        \n",
    "        output = []\n",
    "        for ii in id_val:\n",
    "            if ii in self.truth_cache:\n",
    "                output.append(self.truth_cache[ii])\n",
    "            else:\n",
    "                period = self.rng.random_sample()*365.25\n",
    "                phase = self.rng.random_sample()*2.0*np.pi\n",
    "                amplitude = self.rng.random_sample()*10.0\n",
    "                output.append((period, phase, amplitude))\n",
    "\n",
    "        return np.array(output)\n",
    "    \n",
    "    @compound('uAgn_x', 'gAgn_x', 'rAgn_x', 'iAgn_x', 'zAgn_x', 'yAgn_x')\n",
    "    def get_magnitudes(self):\n",
    "        \n",
    "        if not hasattr(self, 'lsstBandpassDict'):\n",
    "            self.lsstBandpassDict = BandpassDict.loadTotalBandpassesFromFiles()\n",
    "        \n",
    "        delta = 5.0 * (self.obs_metadata.mjd.TAI-59580.0)/3650.0\n",
    "\n",
    "        var_params = self.column_by_name('truthInfo')\n",
    "        wave = [vv[2]*np.sin(2.0*np.pi*self.obs_metadata.mjd.TAI/vv[0] + vv[1]) for vv in var_params]\n",
    "        \n",
    "        return self._magnitudeGetter('agn', self.lsstBandpassDict,\n",
    "                                     self.get_magnitudes._colnames) + delta + wave\n",
    "    \n",
    "    @compound('sigma_uAgn_x', 'sigma_gAgn_x', 'sigma_rAgn_x',\n",
    "              'sigma_iAgn_x', 'sigma_zAgn_x', 'sigma_yAgn_x')\n",
    "    def get_uncertainties(self):\n",
    "        return self._magnitudeUncertaintyGetter(['uAgn_x', 'gAgn_x', 'rAgn_x',\n",
    "                                                 'iAgn_x', 'zAgn_x', 'yAgn_x'],\n",
    "                                                ['u', 'g', 'r', 'i', 'z', 'y'],\n",
    "                                                'lsstBandpassDict')\n",
    "    \n",
    "    @compound(\"lightCurveMag\", \"sigma_lightCurveMag\")\n",
    "    def get_lightCurvePhotometry(self):\n",
    "        return np.array([self.column_by_name(\"%sAgn_x\" % self.obs_metadata.bandpass),\n",
    "                         self.column_by_name(\"sigma_%sAgn_x\" % self.obs_metadata.bandpass)])"
   ]
  },
  {
   "cell_type": "code",
   "execution_count": null,
   "metadata": {
    "collapsed": false
   },
   "outputs": [],
   "source": [
    "lc_gen._lightCurveCatalogClass = _variableAgnCatalog\n",
    "\n",
    "ra_bound = (-2.5, 2.5)\n",
    "dec_bound = (-2.25, 2.25)\n",
    "pointings = lc_gen.get_pointings(ra_bound, dec_bound, bandpass='r')\n",
    "\n",
    "lc_dict_var, truth_dict = lc_gen.light_curves_from_pointings(pointings,\n",
    "                                                               lc_per_field=10)"
   ]
  },
  {
   "cell_type": "markdown",
   "metadata": {},
   "source": [
    "Plotting light curves from this `LightCurveGenerator`, we again see non-linear variation in the magnitude."
   ]
  },
  {
   "cell_type": "code",
   "execution_count": null,
   "metadata": {
    "collapsed": false
   },
   "outputs": [],
   "source": [
    "obj_name = lc_dict_var.keys()[5]\n",
    "lc = lc_dict_var[obj_name]\n",
    "\n",
    "fig, ax = plt.subplots()\n",
    "\n",
    "ax.errorbar(lc['r']['mjd'], lc['r']['mag'], lc['r']['error'],\n",
    "            fmt='', linestyle='None')\n",
    "ax.scatter(lc['r']['mjd'], lc['r']['mag'], s=5, color='r')\n",
    "ax.set(xlabel='MJD', ylabel='r-band magnitude')"
   ]
  },
  {
   "cell_type": "markdown",
   "metadata": {},
   "source": [
    "The `truth_dict` contains the three parameters characterizing the sinusoidal component of the variation."
   ]
  },
  {
   "cell_type": "code",
   "execution_count": null,
   "metadata": {
    "collapsed": false
   },
   "outputs": [],
   "source": [
    "truth_dict[obj_name]"
   ]
  },
  {
   "cell_type": "code",
   "execution_count": null,
   "metadata": {
    "collapsed": true
   },
   "outputs": [],
   "source": []
  }
 ],
 "metadata": {
  "kernelspec": {
   "display_name": "Python 2",
   "language": "python",
   "name": "python2"
  },
  "language_info": {
   "codemirror_mode": {
    "name": "ipython",
    "version": 2
   },
   "file_extension": ".py",
   "mimetype": "text/x-python",
   "name": "python",
   "nbconvert_exporter": "python",
   "pygments_lexer": "ipython2",
   "version": "2.7.12"
  }
 },
 "nbformat": 4,
 "nbformat_minor": 0
}
