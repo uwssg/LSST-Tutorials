{
 "cells": [
  {
   "cell_type": "code",
   "execution_count": null,
   "metadata": {
    "collapsed": false
   },
   "outputs": [],
   "source": [
    "import os\n",
    "import numpy as np\n",
    "from lsst.utils import getPackageDir\n",
    "from lsst.sims.photUtils import Bandpass, Sed\n",
    "\n",
    "nSpectra = 20\n",
    "\n",
    "sedDir = os.path.join(getPackageDir('sims_sed_library'), 'starSED', 'kurucz')\n",
    "bandpassDir = os.path.join(getPackageDir('throughputs'), 'baseline')\n",
    "\n",
    "np.random.seed(42)\n",
    "\n",
    "# create a random list of SED file names drawn from sedDir\n",
    "sedFullNameList = np.array(os.listdir(sedDir))\n",
    "sedDexes = np.unique(np.random.random_integers(0, len(sedFullNameList), nSpectra))\n",
    "sedNameList = sedFullNameList[sedDexes]\n",
    "\n",
    "# create a random list of normalizing magnitudes\n",
    "magNormList = np.random.random_sample(nSpectra)*10.0 + 18.0\n",
    "\n",
    "# read in the r bandpass\n",
    "rBandpass = Bandpass()\n",
    "rBandpass.readThroughput(os.path.join(bandpassDir, 'total_r.dat'))\n",
    "\n",
    "sedList = []\n",
    "for name, norm in zip(sedNameList, magNormList):\n",
    "\n",
    "    fullName = os.path.join(sedDir, name)\n",
    "\n",
    "    # instantiate and read in the SED\n",
    "    spectrum = Sed()\n",
    "    spectrum.readSED_flambda(fullName)\n",
    "\n",
    "    # normalize the SED to have the specified magnitude in the r band\n",
    "    ff = spectrum.calcFluxNorm(norm, rBandpass)\n",
    "    spectrum.multiplyFluxNorm(ff)\n",
    "    sedList.append(spectrum)"
   ]
  },
  {
   "cell_type": "code",
   "execution_count": null,
   "metadata": {
    "collapsed": false
   },
   "outputs": [],
   "source": [
    "total_i_bandpass = Bandpass()\n",
    "total_i_bandpass.readThroughput(os.path.join(bandpassDir, 'total_i.dat'))"
   ]
  },
  {
   "cell_type": "code",
   "execution_count": null,
   "metadata": {
    "collapsed": false
   },
   "outputs": [],
   "source": [
    "test_i_bandpass = Bandpass()\n",
    "componentList = ['detector.dat', 'm1.dat', 'm2.dat', 'm3.dat', \n",
    "                 'lens1.dat', 'lens2.dat', 'lens3.dat', 'filter_i.dat', 'atmos.dat']\n",
    "test_i_bandpass.readThroughputList(componentList, rootDir=bandpassDir)\n",
    "\n",
    "np.testing.assert_array_equal(test_i_bandpass.wavelen, total_i_bandpass.wavelen)\n",
    "np.testing.assert_allclose(test_i_bandpass.sb,\n",
    "                           total_i_bandpass.sb,\n",
    "                           rtol=10)"
   ]
  },
  {
   "cell_type": "code",
   "execution_count": null,
   "metadata": {
    "collapsed": true
   },
   "outputs": [],
   "source": [
    "hardware_i_bandpass = Bandpass()\n",
    "componentList = ['detector.dat', 'm1.dat', 'm2.dat', 'm3.dat', \n",
    "                 'lens1.dat', 'lens2.dat', 'lens3.dat', 'filter_i.dat']\n",
    "hardware_i_bandpass.readThroughputList(componentList, rootDir=bandpassDir)"
   ]
  },
  {
   "cell_type": "code",
   "execution_count": null,
   "metadata": {
    "collapsed": false
   },
   "outputs": [],
   "source": [
    "skySed = Sed()\n",
    "skySed.readSED_flambda(os.path.join(bandpassDir, 'darksky.dat'))"
   ]
  },
  {
   "cell_type": "code",
   "execution_count": null,
   "metadata": {
    "collapsed": true
   },
   "outputs": [],
   "source": [
    "from lsst.sims.photUtils import PhotometricParameters\n",
    "\n",
    "photParams = PhotometricParameters()"
   ]
  },
  {
   "cell_type": "code",
   "execution_count": null,
   "metadata": {
    "collapsed": false
   },
   "outputs": [],
   "source": [
    "help(PhotometricParameters.__init__)"
   ]
  },
  {
   "cell_type": "code",
   "execution_count": null,
   "metadata": {
    "collapsed": false
   },
   "outputs": [],
   "source": [
    "from lsst.sims.photUtils import LSSTdefaults\n",
    "\n",
    "defaults = LSSTdefaults()\n",
    "\n",
    "print help(defaults.FWHMeff)\n",
    "print '\\n'\n",
    "print help(defaults.effwavelen)\n",
    "print '\\n'\n",
    "print help(defaults.m5)\n",
    "print '\\n'\n",
    "print help(defaults.gamma)"
   ]
  },
  {
   "cell_type": "code",
   "execution_count": null,
   "metadata": {
    "collapsed": false
   },
   "outputs": [],
   "source": [
    "import lsst.sims.photUtils.SignalToNoise as snr\n",
    "m5 = snr.calcM5(skySed, total_i_bandpass, hardware_i_bandpass, photParams, FWHMeff=0.8)\n",
    "print m5"
   ]
  },
  {
   "cell_type": "code",
   "execution_count": null,
   "metadata": {
    "collapsed": false
   },
   "outputs": [],
   "source": [
    "snr_sed_list = []\n",
    "for spectrum in sedList:\n",
    "    val = snr.calcSNR_sed(spectrum, total_i_bandpass, skySed, hardware_i_bandpass,\n",
    "                         photParams, 0.8)\n",
    "    snr_sed_list.append(val)\n",
    "\n",
    "snr_sed_list = np.array(snr_sed_list)"
   ]
  },
  {
   "cell_type": "code",
   "execution_count": null,
   "metadata": {
    "collapsed": false
   },
   "outputs": [],
   "source": [
    "magList = []\n",
    "for spectrum in sedList:\n",
    "    mm = spectrum.calcMag(total_i_bandpass)\n",
    "    magList.append(mm)\n",
    "magList = np.array(magList)\n",
    "\n",
    "snr_m5_list, gamma = snr.calcSNR_m5(magList, total_i_bandpass, m5, photParams)"
   ]
  },
  {
   "cell_type": "code",
   "execution_count": null,
   "metadata": {
    "collapsed": false,
    "scrolled": true
   },
   "outputs": [],
   "source": [
    "print 'maximum deviation in snr: ',np.abs(snr_sed_list - snr_m5_list).max()\n",
    "\n",
    "print 'value of snr at maximum deviation: ', \\\n",
    "       snr_sed_list[np.argmax(np.abs(snr_sed_list - snr_m5_list))]"
   ]
  },
  {
   "cell_type": "code",
   "execution_count": null,
   "metadata": {
    "collapsed": false
   },
   "outputs": [],
   "source": [
    "mag_error_sed_list = []\n",
    "for spectrum in sedList:\n",
    "    sigma = snr.calcMagError_sed(spectrum, total_i_bandpass, skySed,\n",
    "                                hardware_i_bandpass, photParams,\n",
    "                                0.8)\n",
    "    mag_error_sed_list.append(sigma)\n",
    "\n",
    "mag_error_sed_list = np.array(mag_error_sed_list)"
   ]
  },
  {
   "cell_type": "code",
   "execution_count": null,
   "metadata": {
    "collapsed": false
   },
   "outputs": [],
   "source": [
    "mag_error_m5_list, gamma = snr.calcMagError_m5(magList, total_i_bandpass, m5, photParams)"
   ]
  },
  {
   "cell_type": "code",
   "execution_count": null,
   "metadata": {
    "collapsed": false
   },
   "outputs": [],
   "source": [
    "print 'maximum deviation in magnitude error: ',np.abs(mag_error_sed_list - mag_error_m5_list).max()\n",
    "\n",
    "print 'value of magnitude at maximum deviation: ', \\\n",
    "       magList[np.argmax(np.abs(mag_error_sed_list - mag_error_m5_list))]"
   ]
  },
  {
   "cell_type": "code",
   "execution_count": null,
   "metadata": {
    "collapsed": true
   },
   "outputs": [],
   "source": []
  }
 ],
 "metadata": {
  "kernelspec": {
   "display_name": "Python 2",
   "language": "python",
   "name": "python2"
  },
  "language_info": {
   "codemirror_mode": {
    "name": "ipython",
    "version": 2
   },
   "file_extension": ".py",
   "mimetype": "text/x-python",
   "name": "python",
   "nbconvert_exporter": "python",
   "pygments_lexer": "ipython2",
   "version": "2.7.10"
  }
 },
 "nbformat": 4,
 "nbformat_minor": 0
}
