{
 "cells": [
  {
   "cell_type": "markdown",
   "metadata": {},
   "source": [
    "This notebook demonstrates how to use the photometric signal-to-noise routines defined in `sims_photUtils/../photUtils/SignalToNoise.py`."
   ]
  },
  {
   "cell_type": "markdown",
   "metadata": {},
   "source": [
    "First, let's just do some setup.  We will create a list of 20 random spectra drawn from the library of Kurucz spectra stored in `sims_sed_library`.  We will normalize them randomly in the u band."
   ]
  },
  {
   "cell_type": "code",
   "execution_count": null,
   "metadata": {
    "collapsed": false
   },
   "outputs": [],
   "source": [
    "import os\n",
    "import numpy as np\n",
    "from lsst.utils import getPackageDir\n",
    "from lsst.sims.photUtils import Bandpass, Sed\n",
    "\n",
    "nSpectra = 20\n",
    "\n",
    "sedDir = os.path.join(getPackageDir('sims_sed_library'), 'starSED', 'kurucz')\n",
    "bandpassDir = os.path.join(getPackageDir('throughputs'), 'baseline')\n",
    "\n",
    "np.random.seed(42)\n",
    "\n",
    "# create a random list of SED file names drawn from sedDir\n",
    "sedFullNameList = np.array(os.listdir(sedDir))\n",
    "sedDexes = np.unique(np.random.random_integers(0, len(sedFullNameList), nSpectra))\n",
    "sedNameList = sedFullNameList[sedDexes]\n",
    "\n",
    "# create a random list of normalizing magnitudes\n",
    "magNormList = np.random.random_sample(nSpectra)*10.0 + 18.0\n",
    "\n",
    "# read in the r bandpass\n",
    "rBandpass = Bandpass()\n",
    "rBandpass.readThroughput(os.path.join(bandpassDir, 'total_r.dat'))\n",
    "\n",
    "sedList = []\n",
    "for name, norm in zip(sedNameList, magNormList):\n",
    "\n",
    "    fullName = os.path.join(sedDir, name)\n",
    "\n",
    "    # instantiate and read in the SED\n",
    "    spectrum = Sed()\n",
    "    spectrum.readSED_flambda(fullName)\n",
    "\n",
    "    # normalize the SED to have the specified magnitude in the r band\n",
    "    ff = spectrum.calcFluxNorm(norm, rBandpass)\n",
    "    spectrum.multiplyFluxNorm(ff)\n",
    "    sedList.append(spectrum)"
   ]
  },
  {
   "cell_type": "markdown",
   "metadata": {},
   "source": [
    "We normalized our example spectra in the u band.  Let's say we want to calculate signal to noise quantities in the i band.  We can do that, by loading the file `total_i.dat` from the `baseline/` sub-directory of the `throughputs` eups pacakge."
   ]
  },
  {
   "cell_type": "code",
   "execution_count": null,
   "metadata": {
    "collapsed": false
   },
   "outputs": [],
   "source": [
    "bandpassDir = os.path.join(getPackageDir('throughputs'), 'baseline')\n",
    "\n",
    "total_i_bandpass = Bandpass()\n",
    "total_i_bandpass.readThroughput(os.path.join(bandpassDir, 'total_i.dat'))"
   ]
  },
  {
   "cell_type": "markdown",
   "metadata": {},
   "source": [
    "`total_i.dat` contains the combined throughputof the lenses, the mirrors, the i filter, and the standard LSST atmosphere (airmass of 1.2).  We could have constructed that throughput by hand by loading the throughputs for each of these components separately and then combining them with teh `readThroughputList` method.  This is useful if we want to consider throughputs a different airmasses (the `throughputs` package contains a few atmospheric throughput files computed by MODTRAN at different airmasses).\n",
    "\n",
    "The cell below construct `total_i_bandpass` 'by hand' and verifies that it is the same (within 10 significant figures) as `total_i.dat`."
   ]
  },
  {
   "cell_type": "code",
   "execution_count": null,
   "metadata": {
    "collapsed": false
   },
   "outputs": [],
   "source": [
    "test_i_bandpass = Bandpass()\n",
    "componentList = ['detector.dat', 'm1.dat', 'm2.dat', 'm3.dat', \n",
    "                 'lens1.dat', 'lens2.dat', 'lens3.dat', 'filter_i.dat', 'atmos.dat']\n",
    "test_i_bandpass.readThroughputList(componentList, rootDir=bandpassDir)\n",
    "\n",
    "np.testing.assert_array_equal(test_i_bandpass.wavelen, total_i_bandpass.wavelen)\n",
    "np.testing.assert_allclose(test_i_bandpass.sb,\n",
    "                           total_i_bandpass.sb,\n",
    "                           rtol=10)"
   ]
  },
  {
   "cell_type": "markdown",
   "metadata": {},
   "source": [
    "For some of the calculations below, we will require the throughput of just the hardware (so: everything except the atmosphere).  This is another use for the `readThroughputList` method."
   ]
  },
  {
   "cell_type": "code",
   "execution_count": null,
   "metadata": {
    "collapsed": true
   },
   "outputs": [],
   "source": [
    "hardware_i_bandpass = Bandpass()\n",
    "componentList = ['detector.dat', 'm1.dat', 'm2.dat', 'm3.dat', \n",
    "                 'lens1.dat', 'lens2.dat', 'lens3.dat', 'filter_i.dat']\n",
    "hardware_i_bandpass.readThroughputList(componentList, rootDir=bandpassDir)"
   ]
  },
  {
   "cell_type": "markdown",
   "metadata": {},
   "source": [
    "We are also going to require a simulated sky emissivity spectrum.  The `baseline/` sub-directory of `throughputs` also contains the file `darksky.dat`, which is our fiducial sky emissivity spectrum."
   ]
  },
  {
   "cell_type": "code",
   "execution_count": null,
   "metadata": {
    "collapsed": false
   },
   "outputs": [],
   "source": [
    "skySed = Sed()\n",
    "skySed.readSED_flambda(os.path.join(bandpassDir, 'darksky.dat'))"
   ]
  },
  {
   "cell_type": "markdown",
   "metadata": {},
   "source": [
    "Finally, there are a bunch of photometric parametrs (readnoise, gain, etc.) that will be required for signal-to-noise calculations.  Those are contained (and passed around) in the class `PhotometricParameters`."
   ]
  },
  {
   "cell_type": "code",
   "execution_count": null,
   "metadata": {
    "collapsed": true
   },
   "outputs": [],
   "source": [
    "from lsst.sims.photUtils import PhotometricParameters\n",
    "\n",
    "photParams = PhotometricParameters()"
   ]
  },
  {
   "cell_type": "markdown",
   "metadata": {},
   "source": [
    "You can specify parameter values by hand when you call the `PhotometricParameters` constructor.  If you do nothing, you will just get LSST default values."
   ]
  },
  {
   "cell_type": "code",
   "execution_count": null,
   "metadata": {
    "collapsed": false
   },
   "outputs": [],
   "source": [
    "help(PhotometricParameters.__init__)"
   ]
  },
  {
   "cell_type": "markdown",
   "metadata": {},
   "source": [
    "We are also going to be required to specify the `FWHMeff` (the full-width at half maximum in arcseconds of an idealized Gaussian PSF; this characterizes the seeing of an observation).  If you don't want to figure out that value on your own, the class `LSSTdefaults` contains assumed LSST default values (as well as values for other observing parameters like m5)."
   ]
  },
  {
   "cell_type": "code",
   "execution_count": null,
   "metadata": {
    "collapsed": false
   },
   "outputs": [],
   "source": [
    "from lsst.sims.photUtils import LSSTdefaults\n",
    "\n",
    "defaults = LSSTdefaults()\n",
    "\n",
    "print help(defaults.FWHMeff)\n",
    "print '\\n'\n",
    "print help(defaults.effwavelen)\n",
    "print '\\n'\n",
    "print help(defaults.m5)\n",
    "print '\\n'\n",
    "print help(defaults.gamma)"
   ]
  },
  {
   "cell_type": "markdown",
   "metadata": {},
   "source": [
    "There are two ways to calculate the signal to noise of a source.\n",
    "\n",
    "The methods `calcSNR_sed` and `calcMagError_sed` assume that you have an SED for your source, and SED for sky emissivity, the throughput for the bandpass plus atmosphere, the throughput for the hardware only, as well as teh photometric parameters described above.  These methods then calculate counts expected form the source and compare them with counts expected from the sky and other hardware-related noise contributors and give you a signal to noise ratio.\n",
    "\n",
    "The methods `calcSNR_m5` and `calcMagErro_m5` assume you do not have a full sky emissivity SED, but you do have an m5 value for the observation as well as magnitudes for your source, a total hardware plus atmosphere throughput curve, and the photometric parameters described above.\n",
    "\n",
    "Below, we demonstrate that these two methods give comparabel results."
   ]
  },
  {
   "cell_type": "markdown",
   "metadata": {},
   "source": [
    "First we must calculate the m5 value in the i bandpass for our observation.  We can use the method `calcM5`."
   ]
  },
  {
   "cell_type": "code",
   "execution_count": null,
   "metadata": {
    "collapsed": false
   },
   "outputs": [],
   "source": [
    "import lsst.sims.photUtils.SignalToNoise as snr\n",
    "m5 = snr.calcM5(skySed, total_i_bandpass, hardware_i_bandpass, photParams, FWHMeff=0.8)\n",
    "print m5"
   ]
  },
  {
   "cell_type": "markdown",
   "metadata": {},
   "source": [
    "Calculate the signal-to-noise ration using the SED."
   ]
  },
  {
   "cell_type": "code",
   "execution_count": null,
   "metadata": {
    "collapsed": false
   },
   "outputs": [],
   "source": [
    "snr_sed_list = []\n",
    "for spectrum in sedList:\n",
    "    val = snr.calcSNR_sed(spectrum, total_i_bandpass, skySed, hardware_i_bandpass,\n",
    "                         photParams, FWHMeff=0.8)\n",
    "    snr_sed_list.append(val)\n",
    "\n",
    "snr_sed_list = np.array(snr_sed_list)"
   ]
  },
  {
   "cell_type": "markdown",
   "metadata": {},
   "source": [
    "Calculate the signal-to-noise ratio using only magnitudes.  Note that, in addition to the signal-to-noise, `calcSNR_m5` also returns the `gamma` parameter from arXiv:0805.233 equation (5).  This can be passed back into `calcSNR_m5` to avoid re-calculation if necessary."
   ]
  },
  {
   "cell_type": "code",
   "execution_count": null,
   "metadata": {
    "collapsed": false
   },
   "outputs": [],
   "source": [
    "magList = []\n",
    "for spectrum in sedList:\n",
    "    mm = spectrum.calcMag(total_i_bandpass)\n",
    "    magList.append(mm)\n",
    "magList = np.array(magList)\n",
    "\n",
    "snr_m5_list, gamma = snr.calcSNR_m5(magList, total_i_bandpass, m5, photParams)"
   ]
  },
  {
   "cell_type": "markdown",
   "metadata": {},
   "source": [
    "Compare."
   ]
  },
  {
   "cell_type": "code",
   "execution_count": null,
   "metadata": {
    "collapsed": false,
    "scrolled": true
   },
   "outputs": [],
   "source": [
    "print 'maximum deviation in snr: ',np.abs(snr_sed_list - snr_m5_list).max()\n",
    "\n",
    "print 'value of snr at maximum deviation: ', \\\n",
    "       snr_sed_list[np.argmax(np.abs(snr_sed_list - snr_m5_list))]"
   ]
  },
  {
   "cell_type": "markdown",
   "metadata": {},
   "source": [
    "Calculate the magnitude error using the SED."
   ]
  },
  {
   "cell_type": "code",
   "execution_count": null,
   "metadata": {
    "collapsed": false
   },
   "outputs": [],
   "source": [
    "mag_error_sed_list = []\n",
    "for spectrum in sedList:\n",
    "    sigma = snr.calcMagError_sed(spectrum, total_i_bandpass, skySed,\n",
    "                                hardware_i_bandpass, photParams,\n",
    "                                FWHMeff=0.8)\n",
    "    mag_error_sed_list.append(sigma)\n",
    "\n",
    "mag_error_sed_list = np.array(mag_error_sed_list)"
   ]
  },
  {
   "cell_type": "markdown",
   "metadata": {},
   "source": [
    "Calculate the magnitude error using magnitudes.  Note that, in addition to the magnitude error, `calcMagError_m5` also returns the `gamma` parameter from arXiv:0805.233 equation (5).  This can be passed back into `calcSNR_m5` to avoid re-calculation if necessary."
   ]
  },
  {
   "cell_type": "code",
   "execution_count": null,
   "metadata": {
    "collapsed": false
   },
   "outputs": [],
   "source": [
    "mag_error_m5_list, gamma = snr.calcMagError_m5(magList, total_i_bandpass, m5, photParams)"
   ]
  },
  {
   "cell_type": "markdown",
   "metadata": {},
   "source": [
    "Compare."
   ]
  },
  {
   "cell_type": "code",
   "execution_count": null,
   "metadata": {
    "collapsed": false
   },
   "outputs": [],
   "source": [
    "print 'maximum deviation in magnitude error: ',np.abs(mag_error_sed_list - mag_error_m5_list).max()\n",
    "\n",
    "print 'value of magnitude at maximum deviation: ', \\\n",
    "       magList[np.argmax(np.abs(mag_error_sed_list - mag_error_m5_list))]"
   ]
  },
  {
   "cell_type": "code",
   "execution_count": null,
   "metadata": {
    "collapsed": true
   },
   "outputs": [],
   "source": []
  }
 ],
 "metadata": {
  "kernelspec": {
   "display_name": "Python 2",
   "language": "python",
   "name": "python2"
  },
  "language_info": {
   "codemirror_mode": {
    "name": "ipython",
    "version": 2
   },
   "file_extension": ".py",
   "mimetype": "text/x-python",
   "name": "python",
   "nbconvert_exporter": "python",
   "pygments_lexer": "ipython2",
   "version": "2.7.10"
  }
 },
 "nbformat": 4,
 "nbformat_minor": 0
}
